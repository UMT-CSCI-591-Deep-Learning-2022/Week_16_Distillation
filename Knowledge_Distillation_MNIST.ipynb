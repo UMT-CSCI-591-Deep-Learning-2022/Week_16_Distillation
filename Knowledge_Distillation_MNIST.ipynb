{
  "cells": [
    {
      "cell_type": "markdown",
      "id": "9e198285",
      "metadata": {
        "id": "9e198285"
      },
      "source": [
        "# Knowledge Distillation on MNIST\n",
        "Knowledge distillation is the process of transferring the higher performance of a more expensive model to a smaller one.  In this notebook, we will explore performing this process on MNIST.  To begin with, I have provided access to pre-trained model that is large, but performant.  The exact architecture is not relevant (although you can inspect this easily if you wish).  It is straightforward to load in pytorch with"
      ]
    },
    {
      "cell_type": "code",
      "execution_count": 29,
      "id": "bef4534c",
      "metadata": {
        "id": "bef4534c"
      },
      "outputs": [],
      "source": [
        "import torch\n",
        "device = 'cpu'\n",
        "\n",
        "class Net(torch.nn.Module):\n",
        "    def __init__(self):\n",
        "        super(Net, self).__init__()\n",
        "        self.l1 = torch.nn.Linear(28**2,800)\n",
        "        self.l2 = torch.nn.Linear(800,800)\n",
        "        self.l3 = torch.nn.Linear(800,10)\n",
        "        self.dropout2 = torch.nn.Dropout(0.5)\n",
        "        self.dropout3 = torch.nn.Dropout(0.5)\n",
        "\n",
        "    def forward(self, x):\n",
        "        x = self.l1(x)\n",
        "        x = torch.relu(x)\n",
        "        x = self.dropout2(x)\n",
        "        x = self.l2(x)\n",
        "        x = torch.relu(x)\n",
        "        x = self.dropout3(x)\n",
        "        x = self.l3(x)\n",
        "        return x\n",
        "    \n",
        "big_model = torch.load('pretrained_model.pt').to(device)"
      ]
    },
    {
      "cell_type": "markdown",
      "id": "78179abb",
      "metadata": {
        "id": "78179abb"
      },
      "source": [
        "First, let's establish the baseline performance of the big model on the MNIST test set.  Of course we'll need acces to the MNIST test set to do this.  At the same time, let's also get our transfer set, which in this case will be a $n=10$k subset of the full MNIST training set (using a subset is helpful for speeding up training of distilled models, and also helps showcase some of the improved performance due to model distillation).   "
      ]
    },
    {
      "cell_type": "code",
      "execution_count": 30,
      "id": "177a7acf",
      "metadata": {
        "id": "177a7acf",
        "colab": {
          "base_uri": "https://localhost:8080/"
        },
        "outputId": "7906992c-5f33-4fe6-8a45-cba65b89c250"
      },
      "outputs": [
        {
          "output_type": "stream",
          "name": "stderr",
          "text": [
            "/usr/local/lib/python3.7/dist-packages/torch/utils/data/dataloader.py:490: UserWarning: This DataLoader will create 4 worker processes in total. Our suggested max number of worker in current system is 2, which is smaller than what this DataLoader is going to create. Please be aware that excessive worker creation might get DataLoader running slow or even freeze, lower the worker number to avoid potential slowness/freeze if necessary.\n",
            "  cpuset_checked))\n"
          ]
        }
      ],
      "source": [
        "from torchvision import transforms, datasets\n",
        "transform=transforms.Compose([\n",
        "    transforms.ToTensor(),\n",
        "    transforms.Normalize((0.1307,), (0.3081,)),\n",
        "    ])\n",
        "\n",
        "dataset_train = datasets.MNIST('./data', train=True, download=True, transform=transform)\n",
        "\n",
        "dataset_test = datasets.MNIST('../data', train=False, download=True, transform=transform)\n",
        "\n",
        "# This is a useful function that I didn't know about before\n",
        "first_10k = list(range(0, 10000))\n",
        "dataset_transfer = torch.utils.data.Subset(dataset_train, first_10k)\n",
        "\n",
        "batch_size = 32\n",
        "num_workers = 4\n",
        "transfer_loader = torch.utils.data.DataLoader(dataset_transfer,batch_size=batch_size,num_workers=num_workers)\n",
        "test_loader = torch.utils.data.DataLoader(dataset_test,batch_size=batch_size,num_workers=num_workers)"
      ]
    },
    {
      "cell_type": "markdown",
      "id": "d5fe32ec",
      "metadata": {
        "id": "d5fe32ec"
      },
      "source": [
        "Here's a function that runs the big model in test mode and provides the number of correct examples"
      ]
    },
    {
      "cell_type": "code",
      "execution_count": 31,
      "id": "8937d3ec",
      "metadata": {
        "id": "8937d3ec",
        "colab": {
          "base_uri": "https://localhost:8080/"
        },
        "outputId": "a9831db4-e377-443d-be2e-80c366641369"
      },
      "outputs": [
        {
          "output_type": "stream",
          "name": "stderr",
          "text": [
            "/usr/local/lib/python3.7/dist-packages/torch/utils/data/dataloader.py:490: UserWarning: This DataLoader will create 4 worker processes in total. Our suggested max number of worker in current system is 2, which is smaller than what this DataLoader is going to create. Please be aware that excessive worker creation might get DataLoader running slow or even freeze, lower the worker number to avoid potential slowness/freeze if necessary.\n",
            "  cpuset_checked))\n"
          ]
        },
        {
          "output_type": "execute_result",
          "data": {
            "text/plain": [
              "9833"
            ]
          },
          "metadata": {},
          "execution_count": 31
        }
      ],
      "source": [
        "def test(model,test_loader):\n",
        "    correct = 0\n",
        "    counter = 0\n",
        "    model.eval()\n",
        "    with torch.no_grad():\n",
        "        for data,target in test_loader:\n",
        "            data, target = data.to(device), target.to(device)\n",
        "            data = data.reshape(data.shape[0],-1)\n",
        "            logits = model(data)\n",
        "            pred = logits.argmax(dim=1,keepdim=True)\n",
        "            correct += pred.eq(target.view_as(pred)).sum().item()\n",
        "            counter += batch_size\n",
        "    return correct\n",
        "\n",
        "test(big_model,test_loader)"
      ]
    },
    {
      "cell_type": "markdown",
      "id": "f7d3c34a",
      "metadata": {
        "id": "f7d3c34a"
      },
      "source": [
        "We find that the big model gets 167 examples wrong (not quite as good as the Hinton paper, but who cares). \n",
        "\n",
        "Now we would like to perform knowledge distillation by training a smaller model to approximate the larger model's performance on the transfer set.  First, let's build a smaller model.  You may use whatever architecture you choose, but I found that using two hidden layers, each with 200 units along with ReLU activations (and no regularization at all) worked fine."
      ]
    },
    {
      "cell_type": "code",
      "execution_count": 48,
      "id": "f6883202",
      "metadata": {
        "id": "f6883202",
        "colab": {
          "base_uri": "https://localhost:8080/"
        },
        "outputId": "7588e39f-9b37-4145-af5a-08bcf5337244"
      },
      "outputs": [
        {
          "output_type": "execute_result",
          "data": {
            "text/plain": [
              "SmallNet(\n",
              "  (l1): Linear(in_features=784, out_features=200, bias=True)\n",
              "  (l2): Linear(in_features=200, out_features=200, bias=True)\n",
              "  (l3): Linear(in_features=200, out_features=10, bias=True)\n",
              "  (dropout2): Dropout(p=0.5, inplace=False)\n",
              "  (dropout3): Dropout(p=0.5, inplace=False)\n",
              ")"
            ]
          },
          "metadata": {},
          "execution_count": 48
        }
      ],
      "source": [
        "class SmallNet(torch.nn.Module):\n",
        "    def __init__(self, width):\n",
        "        super(SmallNet, self).__init__()\n",
        "        self.l1 = torch.nn.Linear(28**2,width)\n",
        "        self.l2 = torch.nn.Linear(width,width)\n",
        "        self.l3 = torch.nn.Linear(width,10)\n",
        "        self.dropout2 = torch.nn.Dropout(0.5)\n",
        "        self.dropout3 = torch.nn.Dropout(0.5)\n",
        "\n",
        "    def forward(self, x):\n",
        "        x = self.l1(x)\n",
        "        x = torch.relu(x) \n",
        "        x = self.dropout3(x)\n",
        "        x = self.l3(x)\n",
        "        return x\n",
        "    \n",
        "small_model = SmallNet(200)\n",
        "small_model.to(device)"
      ]
    },
    {
      "cell_type": "markdown",
      "id": "895fe301",
      "metadata": {
        "id": "895fe301"
      },
      "source": [
        "**To establish a baseline performance level, train the small model on the transfer set**  "
      ]
    },
    {
      "cell_type": "code",
      "execution_count": 49,
      "id": "feac05a0",
      "metadata": {
        "id": "feac05a0",
        "colab": {
          "base_uri": "https://localhost:8080/"
        },
        "outputId": "d4db6870-2d51-43f4-e48c-54106f40c5f7"
      },
      "outputs": [
        {
          "output_type": "stream",
          "name": "stderr",
          "text": [
            "/usr/local/lib/python3.7/dist-packages/torch/utils/data/dataloader.py:490: UserWarning: This DataLoader will create 4 worker processes in total. Our suggested max number of worker in current system is 2, which is smaller than what this DataLoader is going to create. Please be aware that excessive worker creation might get DataLoader running slow or even freeze, lower the worker number to avoid potential slowness/freeze if necessary.\n",
            "  cpuset_checked))\n"
          ]
        },
        {
          "output_type": "stream",
          "name": "stdout",
          "text": [
            "0 tensor(0.5658)\n",
            "1 tensor(0.3119)\n",
            "2 tensor(0.2413)\n",
            "3 tensor(0.2031)\n",
            "4 tensor(0.1780)\n",
            "5 tensor(0.1646)\n",
            "6 tensor(0.1477)\n",
            "8 tensor(0.1179)\n",
            "9 tensor(0.1190)\n",
            "10 tensor(0.1058)\n",
            "11 tensor(0.1015)\n",
            "12 tensor(0.0983)\n",
            "13 tensor(0.0901)\n",
            "14 tensor(0.0910)\n",
            "15 tensor(0.0830)\n",
            "16 tensor(0.0835)\n",
            "17 tensor(0.0703)\n",
            "19 tensor(0.0711)\n",
            "20 tensor(0.0825)\n",
            "21 tensor(0.0706)\n",
            "22 tensor(0.0665)\n",
            "23 tensor(0.0679)\n",
            "24 tensor(0.0635)\n",
            "25 tensor(0.0621)\n",
            "26 tensor(0.0610)\n",
            "27 tensor(0.0507)\n",
            "28 tensor(0.0638)\n",
            "29 tensor(0.0620)\n",
            "30 tensor(0.0530)\n",
            "31 tensor(0.0564)\n",
            "32 tensor(0.0521)\n",
            "33 tensor(0.0572)\n",
            "34 tensor(0.0539)\n",
            "35 tensor(0.0496)\n",
            "36 tensor(0.0536)\n",
            "37 tensor(0.0529)\n",
            "38 tensor(0.0449)\n",
            "39 tensor(0.0471)\n",
            "40 tensor(0.0503)\n",
            "41 tensor(0.0553)\n",
            "42 tensor(0.0561)\n",
            "43 tensor(0.0459)\n",
            "44 tensor(0.0390)\n",
            "45 tensor(0.0424)\n",
            "46 tensor(0.0422)\n",
            "47 tensor(0.0422)\n",
            "48 tensor(0.0445)\n",
            "49 tensor(0.0434)\n"
          ]
        }
      ],
      "source": [
        "# I'm giving you this training function: you'll need to modify it below to do knowledge distillation\n",
        "def train(model,train_loader,n_epochs):\n",
        "    optimizer = torch.optim.Adam(model.parameters(),1e-3)\n",
        "    loss_fn = torch.nn.CrossEntropyLoss()\n",
        "    model.train()\n",
        "    \n",
        "    for epoch in range(n_epochs):\n",
        "        avg_l = 0.0\n",
        "        counter = 0\n",
        "        for batch_idx, (data, target) in enumerate(train_loader):\n",
        "            data, target = data.to(device), target.to(device)\n",
        "            data = data.reshape(data.shape[0],-1)\n",
        "            optimizer.zero_grad()\n",
        "            logits = model(data)\n",
        "            L = loss_fn(logits,target)\n",
        "            L.backward()\n",
        "            optimizer.step()\n",
        "            with torch.no_grad():\n",
        "                avg_l += L\n",
        "                counter += 1\n",
        "        print(epoch,avg_l/counter)\n",
        "\n",
        "train(small_model,transfer_loader,50)"
      ]
    },
    {
      "cell_type": "markdown",
      "id": "85a60a05",
      "metadata": {
        "id": "85a60a05"
      },
      "source": [
        "**Evaluate the small model on the test set, and comment on its accuracy relative to the big model.**  As you might expect, the performance is relatively worse.  "
      ]
    },
    {
      "cell_type": "code",
      "source": [
        "test(small_model,test_loader)"
      ],
      "metadata": {
        "colab": {
          "base_uri": "https://localhost:8080/"
        },
        "id": "IJ1pK_OszTo-",
        "outputId": "1e7efee7-df53-4e8b-c5a3-ef127f18b04e"
      },
      "id": "IJ1pK_OszTo-",
      "execution_count": 50,
      "outputs": [
        {
          "output_type": "stream",
          "name": "stderr",
          "text": [
            "/usr/local/lib/python3.7/dist-packages/torch/utils/data/dataloader.py:490: UserWarning: This DataLoader will create 4 worker processes in total. Our suggested max number of worker in current system is 2, which is smaller than what this DataLoader is going to create. Please be aware that excessive worker creation might get DataLoader running slow or even freeze, lower the worker number to avoid potential slowness/freeze if necessary.\n",
            "  cpuset_checked))\n"
          ]
        },
        {
          "output_type": "execute_result",
          "data": {
            "text/plain": [
              "9600"
            ]
          },
          "metadata": {},
          "execution_count": 50
        }
      ]
    },
    {
      "cell_type": "markdown",
      "source": [
        "For the small model, I reduced the hidden layer width to 200 parameters and removed the second layer entirely. Not surprisingly, the performance saw a significant drop, correctly identifying only 9600 compared to the large model's 9833 (a 2.3% decrease in performance). \n",
        "\n",
        "\n"
      ],
      "metadata": {
        "id": "T7CKDVr7fWir"
      },
      "id": "T7CKDVr7fWir"
    },
    {
      "cell_type": "markdown",
      "id": "6343d3eb",
      "metadata": {
        "id": "6343d3eb"
      },
      "source": [
        "**The primary task of this notebook is now as follows: create a new training function similar to \"train\" above, but instead called \"distill\".**  \"distill\" should perform knowledge distillation as outlined in this week's paper.  It should accept a few additional arguments compared to train, namely the big model, the temperature hyperparameter, and a hyperparameter $\\alpha$ that weights the relative magnitude of the soft target loss and the hard target loss."
      ]
    },
    {
      "cell_type": "code",
      "execution_count": 58,
      "id": "206a7384",
      "metadata": {
        "id": "206a7384",
        "colab": {
          "base_uri": "https://localhost:8080/"
        },
        "outputId": "4428cf0d-4ce2-4a66-aa18-e4d008916fde"
      },
      "outputs": [
        {
          "metadata": {
            "tags": null
          },
          "name": "stderr",
          "output_type": "stream",
          "text": [
            "/usr/local/lib/python3.7/dist-packages/torch/utils/data/dataloader.py:490: UserWarning: This DataLoader will create 4 worker processes in total. Our suggested max number of worker in current system is 2, which is smaller than what this DataLoader is going to create. Please be aware that excessive worker creation might get DataLoader running slow or even freeze, lower the worker number to avoid potential slowness/freeze if necessary.\n",
            "  cpuset_checked))\n"
          ]
        },
        {
          "output_type": "stream",
          "name": "stdout",
          "text": [
            "0 tensor(0.8310)\n",
            "1 tensor(0.4011)\n",
            "2 tensor(0.3265)\n",
            "3 tensor(0.2843)\n",
            "4 tensor(0.2529)\n",
            "5 tensor(0.2220)\n",
            "6 tensor(0.2035)\n",
            "7 tensor(0.1903)\n",
            "8 tensor(0.1741)\n",
            "9 tensor(0.1698)\n",
            "10 tensor(0.1605)\n",
            "11 tensor(0.1450)\n",
            "12 tensor(0.1337)\n",
            "13 tensor(0.1307)\n",
            "14 tensor(0.1228)\n",
            "15 tensor(0.1194)\n",
            "16 tensor(0.1108)\n",
            "17 tensor(0.1088)\n",
            "18 tensor(0.1026)\n",
            "19 tensor(0.0968)\n",
            "20 tensor(0.0931)\n",
            "21 tensor(0.0946)\n",
            "22 tensor(0.0900)\n",
            "23 tensor(0.0878)\n",
            "24 tensor(0.0844)\n",
            "25 tensor(0.0799)\n",
            "26 tensor(0.0797)\n",
            "27 tensor(0.0777)\n",
            "28 tensor(0.0738)\n",
            "29 tensor(0.0756)\n",
            "30 tensor(0.0725)\n",
            "31 tensor(0.0684)\n",
            "32 tensor(0.0665)\n",
            "33 tensor(0.0659)\n",
            "34 tensor(0.0649)\n",
            "35 tensor(0.0659)\n",
            "36 tensor(0.0612)\n",
            "37 tensor(0.0641)\n",
            "38 tensor(0.0647)\n",
            "39 tensor(0.0574)\n",
            "40 tensor(0.0558)\n",
            "41 tensor(0.0587)\n",
            "42 tensor(0.0573)\n",
            "43 tensor(0.0553)\n",
            "44 tensor(0.0565)\n",
            "45 tensor(0.0580)\n",
            "46 tensor(0.0559)\n",
            "48 tensor(0.0542)\n",
            "49 tensor(0.0543)\n"
          ]
        }
      ],
      "source": [
        "distilled_model = SmallNet(150)\n",
        "distilled_model.to(device)\n",
        "\n",
        "# The body of this method is currently copied verbatim from the train method above: \n",
        "# you will need to modify it to utilize the big_model, temperature, and alpha values \n",
        "# to perform knowledge distillation\n",
        "def distill(small_model,big_model,T,alpha,transfer_loader,n_epochs):\n",
        "    optimizer = torch.optim.Adam(small_model.parameters(),1e-3)\n",
        "    loss_fn = torch.nn.CrossEntropyLoss()\n",
        "    softmax = torch.nn.Softmax(dim=1)\n",
        "\n",
        "    small_model.train()\n",
        "\n",
        "    for epoch in range(n_epochs):\n",
        "        avg_l = 0.0\n",
        "        counter = 0\n",
        "\n",
        "        for batch_idx, (data, target) in enumerate(transfer_loader):\n",
        "            data, target = data.to(device), target.to(device)             \n",
        "            data = data.reshape(data.shape[0],-1)\n",
        "            soft_target = softmax(big_model(data))\n",
        "\n",
        "            optimizer.zero_grad()\n",
        "            logits = small_model(data)\n",
        "\n",
        "            L = loss_fn(logits/T, target)\n",
        "            soft_L = loss_fn(logits/T, soft_target)\n",
        "            L = (1-alpha)*L + alpha*soft_L\n",
        "\n",
        "            L.backward()\n",
        "            optimizer.step()\n",
        "\n",
        "            with torch.no_grad():\n",
        "                avg_l += L\n",
        "                counter += 1\n",
        "\n",
        "        print(epoch,avg_l/counter)\n",
        "\n",
        "T = 6\n",
        "alpha = 0.8\n",
        "\n",
        "distill(distilled_model,big_model,T,alpha,transfer_loader,50)"
      ]
    },
    {
      "cell_type": "markdown",
      "id": "4f8bdbbc",
      "metadata": {
        "id": "4f8bdbbc"
      },
      "source": [
        "**Finally, test your distilled model (on the test set) and describe how it performs relative to both big and small models.**"
      ]
    },
    {
      "cell_type": "code",
      "execution_count": 59,
      "id": "70ad6e62",
      "metadata": {
        "id": "70ad6e62",
        "colab": {
          "base_uri": "https://localhost:8080/"
        },
        "outputId": "334f6f5c-bade-450a-cb82-9c93b4609931"
      },
      "outputs": [
        {
          "output_type": "stream",
          "name": "stderr",
          "text": [
            "/usr/local/lib/python3.7/dist-packages/torch/utils/data/dataloader.py:490: UserWarning: This DataLoader will create 4 worker processes in total. Our suggested max number of worker in current system is 2, which is smaller than what this DataLoader is going to create. Please be aware that excessive worker creation might get DataLoader running slow or even freeze, lower the worker number to avoid potential slowness/freeze if necessary.\n",
            "  cpuset_checked))\n"
          ]
        },
        {
          "output_type": "execute_result",
          "data": {
            "text/plain": [
              "9613"
            ]
          },
          "metadata": {},
          "execution_count": 59
        }
      ],
      "source": [
        "test(distilled_model,test_loader)"
      ]
    },
    {
      "cell_type": "markdown",
      "source": [
        "Initially, I used an alpha value of 0.9, and a temperature of 3, resulting in 9603 correct guesses. Hardly an improvement. Increasing the temperature to 6, and lowering the alpha value to 0.8, resulted in 9613 correct answers. While this is still not competetive with the large model, the benefits of knowledge distillation are apparent."
      ],
      "metadata": {
        "id": "6h4IHL4WrXdw"
      },
      "id": "6h4IHL4WrXdw"
    }
  ],
  "metadata": {
    "kernelspec": {
      "display_name": "Python 3 (ipykernel)",
      "language": "python",
      "name": "python3"
    },
    "language_info": {
      "codemirror_mode": {
        "name": "ipython",
        "version": 3
      },
      "file_extension": ".py",
      "mimetype": "text/x-python",
      "name": "python",
      "nbconvert_exporter": "python",
      "pygments_lexer": "ipython3",
      "version": "3.8.12"
    },
    "colab": {
      "name": "Knowledge_Distillation_MNIST.ipynb",
      "provenance": [],
      "collapsed_sections": []
    }
  },
  "nbformat": 4,
  "nbformat_minor": 5
}