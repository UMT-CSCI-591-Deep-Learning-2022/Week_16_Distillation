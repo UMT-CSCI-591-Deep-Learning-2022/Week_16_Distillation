{
 "cells": [
  {
   "cell_type": "markdown",
   "metadata": {},
   "source": [
    "# Knowledge Distillation on MNIST\n",
    "Knowledge distillation is the process of transferring the higher performance of a more expensive model to a smaller one.  In this notebook, we will explore performing this process on MNIST.  To begin with, I have provided access to pre-trained model that is large, but performant.  The exact architecture is not relevant (although you can inspect this easily if you wish).  It is straightforward to load in pytorch with"
   ]
  },
  {
   "cell_type": "code",
   "execution_count": 21,
   "metadata": {},
   "outputs": [],
   "source": [
    "import torch\n",
    "device = 'cpu'\n",
    "\n",
    "class Net(torch.nn.Module):\n",
    "    def __init__(self):\n",
    "        super(Net, self).__init__()\n",
    "        self.l1 = torch.nn.Linear(28**2,800)\n",
    "        self.l2 = torch.nn.Linear(800,800)\n",
    "        self.l3 = torch.nn.Linear(800,10)\n",
    "        self.dropout2 = torch.nn.Dropout(0.5)\n",
    "        self.dropout3 = torch.nn.Dropout(0.5)\n",
    "\n",
    "    def forward(self, x):\n",
    "        x = self.l1(x)\n",
    "        x = torch.relu(x)\n",
    "        x = self.dropout2(x)\n",
    "        x = self.l2(x)\n",
    "        x = torch.relu(x)\n",
    "        x = self.dropout3(x)\n",
    "        x = self.l3(x)\n",
    "        return x\n",
    "\n",
    "big_model = torch.load('pretrained_model.pt').to(device)"
   ]
  },
  {
   "cell_type": "markdown",
   "metadata": {},
   "source": [
    "First, let's establish the baseline performance of the big model on the MNIST test set.  Of course we'll need acces to the MNIST test set to do this.  At the same time, let's also get our transfer set, which in this case will be a $n=10$k subset of the full MNIST training set (using a subset is helpful for speeding up training of distilled models, and also helps showcase some of the improved performance due to model distillation).   "
   ]
  },
  {
   "cell_type": "code",
   "execution_count": 22,
   "metadata": {},
   "outputs": [],
   "source": [
    "from torchvision import transforms, datasets\n",
    "transform=transforms.Compose([\n",
    "    transforms.ToTensor(),\n",
    "    transforms.Normalize((0.1307,), (0.3081,)),\n",
    "    ])\n",
    "\n",
    "dataset_train = datasets.MNIST('./data', train=True, download=True, transform=transform)\n",
    "\n",
    "dataset_test = datasets.MNIST('../data', train=False, download=True, transform=transform)\n",
    "\n",
    "# This is a useful function that I didn't know about before\n",
    "first_10k = list(range(0, 10000))\n",
    "dataset_transfer = torch.utils.data.Subset(dataset_train, first_10k)\n",
    "\n",
    "batch_size = 32\n",
    "num_workers = 4\n",
    "transfer_loader = torch.utils.data.DataLoader(dataset_transfer,batch_size=batch_size,num_workers=num_workers)\n",
    "test_loader = torch.utils.data.DataLoader(dataset_test,batch_size=batch_size,num_workers=num_workers)"
   ]
  },
  {
   "cell_type": "markdown",
   "metadata": {},
   "source": [
    "Here's a function that runs the big model in test mode and provides the number of correct examples"
   ]
  },
  {
   "cell_type": "code",
   "execution_count": 23,
   "metadata": {},
   "outputs": [
    {
     "data": {
      "text/plain": [
       "9833"
      ]
     },
     "execution_count": 23,
     "metadata": {},
     "output_type": "execute_result"
    }
   ],
   "source": [
    "def test(model,test_loader):\n",
    "    correct = 0\n",
    "    counter = 0\n",
    "    model.eval()\n",
    "    with torch.no_grad():\n",
    "        for data,target in test_loader:\n",
    "            data, target = data.to(device), target.to(device)\n",
    "            data = data.reshape(data.shape[0],-1)\n",
    "            logits = model(data)\n",
    "            pred = logits.argmax(dim=1,keepdim=True)\n",
    "            correct += pred.eq(target.view_as(pred)).sum().item()\n",
    "            counter += batch_size\n",
    "    return correct\n",
    "\n",
    "test(big_model,test_loader)"
   ]
  },
  {
   "cell_type": "markdown",
   "metadata": {},
   "source": [
    "We find that the big model gets 167 examples wrong (not quite as good as the Hinton paper, but who cares). \n",
    "\n",
    "Now we would like to perform knowledge distillation by training a smaller model to approximate the larger model's performance on the transfer set.  First, let's build a smaller model.  You may use whatever architecture you choose, but I found that using two hidden layers, each with 200 units along with ReLU activations (and no regularization at all) worked fine."
   ]
  },
  {
   "cell_type": "code",
   "execution_count": 24,
   "metadata": {},
   "outputs": [],
   "source": [
    "class SmallNet(torch.nn.Module):\n",
    "    def __init__(self):\n",
    "        super(SmallNet, self).__init__()\n",
    "        self.l1 = torch.nn.Linear(28**2,200)\n",
    "        self.l2 = torch.nn.Linear(200,200)\n",
    "        self.l3 = torch.nn.Linear(200,200)\n",
    "        self.l4 = torch.nn.Linear(200,10)\n",
    "\n",
    "    def forward(self, x):\n",
    "        x = self.l1(x)\n",
    "        x = torch.relu(x)\n",
    "        x = self.l2(x)\n",
    "        x = torch.relu(x)\n",
    "        x = self.l3(x)\n",
    "        x = torch.relu(x)\n",
    "        x = self.l4(x)\n",
    "#         x = torch.softmax(x)\n",
    "        return x"
   ]
  },
  {
   "cell_type": "markdown",
   "metadata": {},
   "source": [
    "**To establish a baseline performance level, train the small model on the transfer set**  "
   ]
  },
  {
   "cell_type": "code",
   "execution_count": 25,
   "metadata": {},
   "outputs": [],
   "source": [
    "T = 1\n",
    "# I'm giving you this training function: you'll need to modify it below to do knowledge distillation\n",
    "def train(model,train_loader,n_epochs):\n",
    "    optimizer = torch.optim.Adam(model.parameters(),1e-3)\n",
    "    loss_fn = torch.nn.CrossEntropyLoss()\n",
    "    model.train()\n",
    "    for epoch in range(n_epochs):\n",
    "        avg_l = 0.0\n",
    "        counter = 0\n",
    "        for batch_idx, (data, target) in enumerate(train_loader):\n",
    "            data, target = data.to(device), target.to(device)\n",
    "            data = data.reshape(data.shape[0],-1)\n",
    "            optimizer.zero_grad()\n",
    "            logits = model(data)\n",
    "            L = loss_fn(logits,target)\n",
    "            L.backward()\n",
    "            optimizer.step()\n",
    "            with torch.no_grad():\n",
    "                avg_l += L\n",
    "                counter += 1\n",
    "        print(epoch,avg_l/counter)\n"
   ]
  },
  {
   "cell_type": "code",
   "execution_count": 26,
   "metadata": {},
   "outputs": [
    {
     "name": "stdout",
     "output_type": "stream",
     "text": [
      "0 tensor(0.4893)\n",
      "1 tensor(0.2020)\n",
      "2 tensor(0.1235)\n",
      "3 tensor(0.0972)\n",
      "4 tensor(0.0788)\n",
      "5 tensor(0.0597)\n",
      "6 tensor(0.0573)\n",
      "7 tensor(0.0469)\n",
      "8 tensor(0.0341)\n",
      "9 tensor(0.0468)\n",
      "10 tensor(0.0298)\n",
      "11 tensor(0.0242)\n",
      "12 tensor(0.0405)\n",
      "13 tensor(0.0234)\n",
      "14 tensor(0.0374)\n",
      "15 tensor(0.0279)\n",
      "16 tensor(0.0195)\n",
      "17 tensor(0.0259)\n",
      "18 tensor(0.0265)\n",
      "19 tensor(0.0232)\n",
      "20 tensor(0.0250)\n",
      "21 tensor(0.0098)\n",
      "22 tensor(0.0178)\n",
      "23 tensor(0.0229)\n",
      "24 tensor(0.0096)\n",
      "25 tensor(0.0253)\n",
      "26 tensor(0.0141)\n",
      "27 tensor(0.0139)\n",
      "28 tensor(0.0269)\n",
      "29 tensor(0.0141)\n",
      "30 tensor(0.0084)\n",
      "31 tensor(0.0086)\n",
      "32 tensor(0.0071)\n",
      "33 tensor(0.0208)\n",
      "34 tensor(0.0182)\n",
      "35 tensor(0.0103)\n",
      "36 tensor(0.0272)\n",
      "37 tensor(0.0154)\n",
      "38 tensor(0.0041)\n",
      "39 tensor(0.0109)\n",
      "40 tensor(0.0035)\n",
      "41 tensor(0.0018)\n",
      "42 tensor(0.0071)\n",
      "43 tensor(0.0032)\n",
      "44 tensor(0.0230)\n",
      "45 tensor(0.0476)\n",
      "46 tensor(0.0109)\n",
      "47 tensor(0.0094)\n",
      "48 tensor(0.0087)\n",
      "49 tensor(0.0146)\n"
     ]
    }
   ],
   "source": [
    "small_model = SmallNet()\n",
    "small_model.to(device)\n",
    "\n",
    "train(small_model,transfer_loader,50)"
   ]
  },
  {
   "cell_type": "markdown",
   "metadata": {},
   "source": [
    "**Evaluate the small model on the test set, and comment on its accuracy relative to the big model.**  As you might expect, the performance is relatively worse.  "
   ]
  },
  {
   "cell_type": "code",
   "execution_count": 27,
   "metadata": {},
   "outputs": [
    {
     "data": {
      "text/plain": [
       "9551"
      ]
     },
     "execution_count": 27,
     "metadata": {},
     "output_type": "execute_result"
    }
   ],
   "source": [
    "test(small_model,test_loader)"
   ]
  },
  {
   "cell_type": "markdown",
   "metadata": {},
   "source": [
    "**The primary task of this notebook is now as follows: create a new training function similar to \"train\" above, but instead called \"distill\".**  \"distill\" should perform knowledge distillation as outlined in this week's paper.  It should accept a few additional arguments compared to train, namely the big model, the temperature hyperparameter, and a hyperparameter $\\alpha$ that weights the relative magnitude of the soft target loss and the hard target loss."
   ]
  },
  {
   "cell_type": "code",
   "execution_count": null,
   "metadata": {},
   "outputs": [],
   "source": [
    "from torch impo"
   ]
  },
  {
   "cell_type": "code",
   "execution_count": 28,
   "metadata": {},
   "outputs": [],
   "source": [
    "import torch.nn.functional as F"
   ]
  },
  {
   "cell_type": "code",
   "execution_count": 30,
   "metadata": {},
   "outputs": [
    {
     "name": "stderr",
     "output_type": "stream",
     "text": [
      "/opt/conda/lib/python3.6/site-packages/ipykernel_launcher.py:9: UserWarning: Implicit dimension choice for log_softmax has been deprecated. Change the call to include dim=X as an argument.\n",
      "  if __name__ == '__main__':\n",
      "/opt/conda/lib/python3.6/site-packages/ipykernel_launcher.py:9: UserWarning: Implicit dimension choice for softmax has been deprecated. Change the call to include dim=X as an argument.\n",
      "  if __name__ == '__main__':\n",
      "/opt/conda/lib/python3.6/site-packages/torch/nn/functional.py:2611: UserWarning: reduction: 'mean' divides the total loss by both the batch size and the support size.'batchmean' divides only by the batch size, and aligns with the KL div math definition.'mean' will be changed to behave the same as 'batchmean' in the next major release.\n",
      "  \"reduction: 'mean' divides the total loss by both the batch size and the support size.\"\n",
      "/opt/conda/lib/python3.6/site-packages/ipykernel_launcher.py:28: UserWarning: Implicit dimension choice for log_softmax has been deprecated. Change the call to include dim=X as an argument.\n",
      "/opt/conda/lib/python3.6/site-packages/ipykernel_launcher.py:28: UserWarning: Implicit dimension choice for softmax has been deprecated. Change the call to include dim=X as an argument.\n"
     ]
    },
    {
     "name": "stdout",
     "output_type": "stream",
     "text": [
      "0 tensor(0.4334)\n",
      "1 tensor(0.1782)\n",
      "2 tensor(0.1145)\n",
      "3 tensor(0.0802)\n",
      "4 tensor(0.0602)\n",
      "5 tensor(0.0494)\n",
      "6 tensor(0.0396)\n",
      "7 tensor(0.0299)\n",
      "8 tensor(0.0409)\n",
      "9 tensor(0.0279)\n",
      "10 tensor(0.0302)\n",
      "11 tensor(0.0285)\n",
      "12 tensor(0.0187)\n",
      "13 tensor(0.0207)\n",
      "14 tensor(0.0234)\n",
      "15 tensor(0.0174)\n",
      "16 tensor(0.0176)\n",
      "17 tensor(0.0294)\n",
      "18 tensor(0.0228)\n",
      "19 tensor(0.0157)\n",
      "20 tensor(0.0131)\n",
      "21 tensor(0.0130)\n",
      "22 tensor(0.0169)\n",
      "23 tensor(0.0168)\n",
      "24 tensor(0.0125)\n",
      "25 tensor(0.0145)\n",
      "26 tensor(0.0205)\n",
      "27 tensor(0.0113)\n",
      "28 tensor(0.0079)\n",
      "29 tensor(0.0127)\n",
      "30 tensor(0.0104)\n",
      "31 tensor(0.0071)\n",
      "32 tensor(0.0056)\n",
      "33 tensor(0.0054)\n",
      "34 tensor(0.0072)\n",
      "35 tensor(0.0444)\n",
      "36 tensor(0.0245)\n",
      "37 tensor(0.0108)\n",
      "38 tensor(0.0061)\n",
      "39 tensor(0.0048)\n",
      "40 tensor(0.0039)\n",
      "41 tensor(0.0037)\n",
      "42 tensor(0.0036)\n",
      "43 tensor(0.0036)\n",
      "44 tensor(0.0049)\n",
      "45 tensor(0.0455)\n",
      "46 tensor(0.0246)\n",
      "47 tensor(0.0108)\n",
      "48 tensor(0.0056)\n",
      "49 tensor(0.0043)\n"
     ]
    }
   ],
   "source": [
    "distilled_model = SmallNet()\n",
    "distilled_model.to(device)\n",
    "\n",
    "# The body of this method is currently copied verbatim from the train method above: \n",
    "# you will need to modify it to utilize the big_model, temperature, and alpha values \n",
    "# to perform knowledge distillation\n",
    "\n",
    "def distillation(y, labels, teacher_scores, T, alpha):\n",
    "    return torch.nn.KLDivLoss()(F.log_softmax(y/T), F.softmax(teacher_scores/T)) * (T*T * 2.0 * alpha) + F.cross_entropy(y, labels) * (1. - alpha)\n",
    "\n",
    "\n",
    "def distill(small_model,big_model,T,alpha,transfer_loader,n_epochs):\n",
    "    optimizer = torch.optim.Adam(small_model.parameters(),1e-3)\n",
    "    # I had trouble getting CE to work with my loss, so found a doc online suggesting KL for loss here\n",
    "    loss_fn = torch.nn.KLDivLoss()\n",
    "    small_model.train()\n",
    "    big_model.eval()\n",
    "    for epoch in range(n_epochs):\n",
    "        avg_l = 0.0\n",
    "        counter = 0\n",
    "        for batch_idx, (data, target) in enumerate(transfer_loader):\n",
    "            data, target = data.to(device), target.to(device)\n",
    "            data = data.reshape(data.shape[0],-1)\n",
    "            optimizer.zero_grad()\n",
    "            logits = small_model(data)\n",
    "            big_logits = big_model(data).detach()\n",
    "            L = distillation(logits, target, big_logits, T=T, alpha=alpha)\n",
    "            L = loss_fn(F.log_softmax(logits/T), F.softmax(big_logits/T)) * (T*T * 2.0 * alpha) + F.cross_entropy(logits, target) * (1. - alpha)\n",
    "            L.backward()\n",
    "            optimizer.step()\n",
    "            with torch.no_grad():\n",
    "                avg_l += L\n",
    "                counter += 1\n",
    "        print(epoch,avg_l/counter)\n",
    "        \n",
    "distill(distilled_model,big_model,T=2,alpha=0.7,transfer_loader=transfer_loader,n_epochs=50)"
   ]
  },
  {
   "cell_type": "markdown",
   "metadata": {},
   "source": [
    "**Finally, test your distilled model (on the test set) and describe how it performs relative to both big and small models.**"
   ]
  },
  {
   "cell_type": "code",
   "execution_count": 31,
   "metadata": {},
   "outputs": [
    {
     "data": {
      "text/plain": [
       "9664"
      ]
     },
     "execution_count": 31,
     "metadata": {},
     "output_type": "execute_result"
    }
   ],
   "source": [
    "test(distilled_model,test_loader)"
   ]
  },
  {
   "cell_type": "markdown",
   "metadata": {},
   "source": [
    "Re"
   ]
  }
 ],
 "metadata": {
  "instance_type": "ml.g4dn.xlarge",
  "kernelspec": {
   "display_name": "Python 3 (PyTorch 1.8 Python 3.6 GPU Optimized)",
   "language": "python",
   "name": "python3__SAGEMAKER_INTERNAL__arn:aws:sagemaker:us-east-1:081325390199:image/pytorch-1.8-gpu-py36"
  },
  "language_info": {
   "codemirror_mode": {
    "name": "ipython",
    "version": 3
   },
   "file_extension": ".py",
   "mimetype": "text/x-python",
   "name": "python",
   "nbconvert_exporter": "python",
   "pygments_lexer": "ipython3",
   "version": "3.6.13"
  }
 },
 "nbformat": 4,
 "nbformat_minor": 5
}
