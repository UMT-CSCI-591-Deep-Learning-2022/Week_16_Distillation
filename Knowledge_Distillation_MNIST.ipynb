{
 "cells": [
  {
   "cell_type": "markdown",
   "id": "9e198285",
   "metadata": {},
   "source": [
    "# Knowledge Distillation on MNIST\n",
    "Knowledge distillation is the process of transferring the higher performance of a more expensive model to a smaller one.  In this notebook, we will explore performing this process on MNIST.  To begin with, I have provided access to pre-trained model that is large, but performant.  The exact architecture is not relevant (although you can inspect this easily if you wish).  It is straightforward to load in pytorch with"
   ]
  },
  {
   "cell_type": "code",
   "execution_count": 1,
   "id": "bef4534c",
   "metadata": {},
   "outputs": [],
   "source": [
    "import torch\n",
    "device = 'cpu'\n",
    "\n",
    "class Net(torch.nn.Module):\n",
    "    def __init__(self):\n",
    "        super(Net, self).__init__()\n",
    "        self.l1 = torch.nn.Linear(28**2,800)\n",
    "        self.l2 = torch.nn.Linear(800,800)\n",
    "        self.l3 = torch.nn.Linear(800,10)\n",
    "        self.dropout2 = torch.nn.Dropout(0.5)\n",
    "        self.dropout3 = torch.nn.Dropout(0.5)\n",
    "\n",
    "    def forward(self, x):\n",
    "        x = self.l1(x)\n",
    "        x = torch.relu(x)\n",
    "        x = self.dropout2(x)\n",
    "        x = self.l2(x)\n",
    "        x = torch.relu(x)\n",
    "        x = self.dropout3(x)\n",
    "        x = self.l3(x)\n",
    "        return x\n",
    "    \n",
    "big_model = torch.load('pretrained_model.pt').to(device)"
   ]
  },
  {
   "cell_type": "markdown",
   "id": "78179abb",
   "metadata": {},
   "source": [
    "First, let's establish the baseline performance of the big model on the MNIST test set.  Of course we'll need acces to the MNIST test set to do this.  At the same time, let's also get our transfer set, which in this case will be a $n=10$k subset of the full MNIST training set (using a subset is helpful for speeding up training of distilled models, and also helps showcase some of the improved performance due to model distillation).   "
   ]
  },
  {
   "cell_type": "code",
   "execution_count": 2,
   "id": "177a7acf",
   "metadata": {},
   "outputs": [],
   "source": [
    "from torchvision import transforms, datasets\n",
    "transform=transforms.Compose([\n",
    "    transforms.ToTensor(),\n",
    "    transforms.Normalize((0.1307,), (0.3081,)),\n",
    "    ])\n",
    "\n",
    "dataset_train = datasets.MNIST('./data', train=True, download=True, transform=transform)\n",
    "\n",
    "dataset_test = datasets.MNIST('../data', train=False, download=True, transform=transform)\n",
    "\n",
    "# This is a useful function that I didn't know about before\n",
    "first_10k = list(range(0, 10000))\n",
    "dataset_transfer = torch.utils.data.Subset(dataset_train, first_10k)\n",
    "\n",
    "batch_size = 32\n",
    "num_workers = 4\n",
    "transfer_loader = torch.utils.data.DataLoader(dataset_transfer,batch_size=batch_size,num_workers=num_workers)\n",
    "test_loader = torch.utils.data.DataLoader(dataset_test,batch_size=batch_size,num_workers=num_workers)"
   ]
  },
  {
   "cell_type": "markdown",
   "id": "d5fe32ec",
   "metadata": {},
   "source": [
    "Here's a function that runs the big model in test mode and provides the number of correct examples"
   ]
  },
  {
   "cell_type": "code",
   "execution_count": 3,
   "id": "8937d3ec",
   "metadata": {},
   "outputs": [
    {
     "data": {
      "text/plain": [
       "9833"
      ]
     },
     "execution_count": 3,
     "metadata": {},
     "output_type": "execute_result"
    }
   ],
   "source": [
    "def test(model,test_loader):\n",
    "    correct = 0\n",
    "    counter = 0\n",
    "    model.eval()\n",
    "    with torch.no_grad():\n",
    "        for data,target in test_loader:\n",
    "            data, target = data.to(device), target.to(device)\n",
    "            data = data.reshape(data.shape[0],-1)\n",
    "            logits = model(data)\n",
    "            pred = logits.argmax(dim=1,keepdim=True)\n",
    "            correct += pred.eq(target.view_as(pred)).sum().item()\n",
    "            counter += batch_size\n",
    "    return correct\n",
    "\n",
    "test(big_model,test_loader)"
   ]
  },
  {
   "cell_type": "markdown",
   "id": "f7d3c34a",
   "metadata": {},
   "source": [
    "We find that the big model gets 167 examples wrong (not quite as good as the Hinton paper, but who cares). \n",
    "\n",
    "Now we would like to perform knowledge distillation by training a smaller model to approximate the larger model's performance on the transfer set.  First, let's build a smaller model.  You may use whatever architecture you choose, but I found that using two hidden layers, each with 200 units along with ReLU activations (and no regularization at all) worked fine."
   ]
  },
  {
   "cell_type": "code",
   "execution_count": 4,
   "id": "f6883202",
   "metadata": {},
   "outputs": [
    {
     "data": {
      "text/plain": [
       "SmallNet(\n",
       "  (L1): Linear(in_features=784, out_features=200, bias=True)\n",
       "  (L2): Linear(in_features=200, out_features=10, bias=True)\n",
       "  (relu): ReLU()\n",
       ")"
      ]
     },
     "execution_count": 4,
     "metadata": {},
     "output_type": "execute_result"
    }
   ],
   "source": [
    "class SmallNet(torch.nn.Module):\n",
    "    def __init__(self):\n",
    "        super(SmallNet, self).__init__()\n",
    "        self.L1 = torch.nn.Linear(784, 200)\n",
    "        self.L2 = torch.nn.Linear(200, 10)\n",
    "        self.relu = torch.nn.ReLU()\n",
    "\n",
    "    def forward(self, x):\n",
    "        x = self.L1(x)\n",
    "        x = self.relu(x)\n",
    "        x = self.L2(x)\n",
    "        return x\n",
    "    \n",
    "small_model = SmallNet()\n",
    "small_model.to(device)"
   ]
  },
  {
   "cell_type": "markdown",
   "id": "895fe301",
   "metadata": {},
   "source": [
    "**To establish a baseline performance level, train the small model on the transfer set**  "
   ]
  },
  {
   "cell_type": "code",
   "execution_count": 5,
   "id": "feac05a0",
   "metadata": {},
   "outputs": [
    {
     "name": "stdout",
     "output_type": "stream",
     "text": [
      "0 tensor(0.4295)\n",
      "1 tensor(0.2024)\n",
      "2 tensor(0.1324)\n",
      "3 tensor(0.0890)\n",
      "4 tensor(0.0607)\n",
      "5 tensor(0.0390)\n",
      "6 tensor(0.0257)\n",
      "7 tensor(0.0185)\n",
      "8 tensor(0.0180)\n",
      "9 tensor(0.0173)\n",
      "10 tensor(0.0188)\n",
      "11 tensor(0.0137)\n",
      "12 tensor(0.0141)\n",
      "13 tensor(0.0153)\n",
      "14 tensor(0.0133)\n",
      "15 tensor(0.0127)\n",
      "16 tensor(0.0066)\n",
      "17 tensor(0.0080)\n",
      "18 tensor(0.0125)\n",
      "19 tensor(0.0095)\n",
      "20 tensor(0.0090)\n",
      "21 tensor(0.0031)\n",
      "22 tensor(0.0037)\n",
      "23 tensor(0.0127)\n",
      "24 tensor(0.0184)\n",
      "25 tensor(0.0083)\n",
      "26 tensor(0.0082)\n",
      "27 tensor(0.0016)\n",
      "28 tensor(0.0004)\n",
      "29 tensor(0.0001)\n",
      "30 tensor(7.0514e-05)\n",
      "31 tensor(5.7303e-05)\n",
      "32 tensor(4.9143e-05)\n",
      "33 tensor(4.3081e-05)\n",
      "34 tensor(3.8200e-05)\n",
      "35 tensor(3.4161e-05)\n",
      "36 tensor(3.0645e-05)\n",
      "37 tensor(2.7562e-05)\n",
      "38 tensor(2.4797e-05)\n",
      "39 tensor(2.2340e-05)\n",
      "40 tensor(2.0122e-05)\n",
      "41 tensor(1.8134e-05)\n",
      "42 tensor(1.6321e-05)\n",
      "43 tensor(1.4683e-05)\n",
      "44 tensor(1.3192e-05)\n",
      "45 tensor(1.1857e-05)\n",
      "46 tensor(1.0617e-05)\n",
      "47 tensor(9.4939e-06)\n",
      "48 tensor(8.4623e-06)\n",
      "49 tensor(7.5294e-06)\n"
     ]
    }
   ],
   "source": [
    "# I'm giving you this training function: you'll need to modify it below to do knowledge distillation\n",
    "def train(model,train_loader,n_epochs):\n",
    "    optimizer = torch.optim.Adam(model.parameters(),1e-3)\n",
    "    loss_fn = torch.nn.CrossEntropyLoss()\n",
    "    model.train()\n",
    "    for epoch in range(n_epochs):\n",
    "        avg_l = 0.0\n",
    "        counter = 0\n",
    "        for batch_idx, (data, target) in enumerate(train_loader):\n",
    "            data, target = data.to(device), target.to(device)\n",
    "            data = data.reshape(data.shape[0],-1)\n",
    "            optimizer.zero_grad()\n",
    "            logits = model(data)\n",
    "            L = loss_fn(logits,target)\n",
    "            L.backward()\n",
    "            optimizer.step()\n",
    "            with torch.no_grad():\n",
    "                avg_l += L\n",
    "                counter += 1\n",
    "        print(epoch,avg_l/counter)\n",
    "\n",
    "train(small_model,transfer_loader,50)"
   ]
  },
  {
   "cell_type": "markdown",
   "id": "85a60a05",
   "metadata": {},
   "source": [
    "**Evaluate the small model on the test set, and comment on its accuracy relative to the big model.**  As you might expect, the performance is relatively worse.  "
   ]
  },
  {
   "cell_type": "code",
   "execution_count": 6,
   "id": "5f760c43",
   "metadata": {},
   "outputs": [
    {
     "data": {
      "text/plain": [
       "9645"
      ]
     },
     "execution_count": 6,
     "metadata": {},
     "output_type": "execute_result"
    }
   ],
   "source": [
    "test(small_model,test_loader)\n",
    "# The small net gets about 200 more wrong which isn't too much worse but in the case of an easy MNIST dataset\n",
    "# we should be able to do much better"
   ]
  },
  {
   "cell_type": "markdown",
   "id": "6343d3eb",
   "metadata": {},
   "source": [
    "**The primary task of this notebook is now as follows: create a new training function similar to \"train\" above, but instead called \"distill\".**  \"distill\" should perform knowledge distillation as outlined in this week's paper.  It should accept a few additional arguments compared to train, namely the big model, the temperature hyperparameter, and a hyperparameter $\\alpha$ that weights the relative magnitude of the soft target loss and the hard target loss."
   ]
  },
  {
   "cell_type": "code",
   "execution_count": 7,
   "id": "206a7384",
   "metadata": {},
   "outputs": [],
   "source": [
    "distilled_model = SmallNet()\n",
    "distilled_model.to(device)\n",
    "\n",
    "# The body of this method is currently copied verbatim from the train method above: \n",
    "# you will need to modify it to utilize the big_model, temperature, and alpha values \n",
    "# to perform knowledge distillation\n",
    "def distill(small_model,big_model,T,alpha,transfer_loader,n_epochs):\n",
    "    optimizer = torch.optim.Adam(small_model.parameters(),1e-3)\n",
    "    loss_fn = torch.nn.CrossEntropyLoss() # expects logits instead of probs, don't softmax before passing in\n",
    "    sf = torch.nn.Softmax(dim = -1)\n",
    "    # hard target loss - pass in logits\n",
    "    # soft target pass in logits / T\n",
    "    # targets - can accept an int class, \n",
    "    #           vector of probs of same size as logits\n",
    "    small_model.train()\n",
    "    for epoch in range(n_epochs):\n",
    "        avg_l = 0.0\n",
    "        counter = 0\n",
    "        for batch_idx, (data, target) in enumerate(transfer_loader):\n",
    "            data, target = data.to(device), target.to(device)\n",
    "            data = data.reshape(data.shape[0],-1)\n",
    "            optimizer.zero_grad()\n",
    "            # small model\n",
    "            small_logits = small_model(data)\n",
    "            L_student = loss_fn(small_logits,target)\n",
    "            # big model\n",
    "            big_logits = big_model(data) # softmax these ones?\n",
    "            L_teacher = loss_fn(small_logits / T, sf(big_logits / T))\n",
    "            # weight the loss functions with alpha\n",
    "            L = alpha*L_student + (1-alpha)*L_teacher\n",
    "            L.backward()\n",
    "            optimizer.step()\n",
    "            with torch.no_grad():\n",
    "                avg_l += L\n",
    "                counter += 1\n",
    "        print(epoch,avg_l/counter)\n"
   ]
  },
  {
   "cell_type": "code",
   "execution_count": 8,
   "id": "cc7b765f",
   "metadata": {},
   "outputs": [
    {
     "name": "stdout",
     "output_type": "stream",
     "text": [
      "0 tensor(0.5976)\n",
      "1 tensor(0.3325)\n",
      "2 tensor(0.2589)\n",
      "3 tensor(0.2130)\n",
      "4 tensor(0.1843)\n",
      "5 tensor(0.1647)\n",
      "6 tensor(0.1510)\n",
      "7 tensor(0.1409)\n",
      "8 tensor(0.1329)\n",
      "9 tensor(0.1271)\n",
      "10 tensor(0.1228)\n",
      "11 tensor(0.1192)\n",
      "12 tensor(0.1167)\n",
      "13 tensor(0.1154)\n",
      "14 tensor(0.1153)\n",
      "15 tensor(0.1203)\n",
      "16 tensor(0.1261)\n",
      "17 tensor(0.1203)\n",
      "18 tensor(0.1157)\n",
      "19 tensor(0.1146)\n",
      "20 tensor(0.1134)\n",
      "21 tensor(0.1126)\n",
      "22 tensor(0.1145)\n",
      "23 tensor(0.1127)\n",
      "24 tensor(0.1131)\n",
      "25 tensor(0.1121)\n",
      "26 tensor(0.1120)\n",
      "27 tensor(0.1099)\n",
      "28 tensor(0.1097)\n",
      "29 tensor(0.1107)\n",
      "30 tensor(0.1105)\n",
      "31 tensor(0.1093)\n",
      "32 tensor(0.1092)\n",
      "33 tensor(0.1098)\n",
      "34 tensor(0.1090)\n",
      "35 tensor(0.1083)\n",
      "36 tensor(0.1098)\n",
      "37 tensor(0.1090)\n",
      "38 tensor(0.1072)\n",
      "39 tensor(0.1079)\n",
      "40 tensor(0.1074)\n",
      "41 tensor(0.1074)\n",
      "42 tensor(0.1078)\n",
      "43 tensor(0.1069)\n",
      "44 tensor(0.1065)\n",
      "45 tensor(0.1066)\n",
      "46 tensor(0.1075)\n",
      "47 tensor(0.1073)\n",
      "48 tensor(0.1071)\n",
      "49 tensor(0.1068)\n"
     ]
    }
   ],
   "source": [
    "T = 3\n",
    "alpha = 0.2\n",
    "distill(distilled_model,big_model,T,alpha,transfer_loader,50)"
   ]
  },
  {
   "cell_type": "code",
   "execution_count": null,
   "id": "58448647",
   "metadata": {},
   "outputs": [],
   "source": []
  },
  {
   "cell_type": "markdown",
   "id": "4f8bdbbc",
   "metadata": {},
   "source": [
    "**Finally, test your distilled model (on the test set) and describe how it performs relative to both big and small models.**\n",
    "With a lower temperature my distilled model really didn't do any better than the small model (and both are worse than the big model). Increasing the temperature actually gave even worse performance. Changing alpha to be really small such that most of the information is coming from the large \"teacher\" model gave the biggest improvement."
   ]
  },
  {
   "cell_type": "code",
   "execution_count": 9,
   "id": "70ad6e62",
   "metadata": {},
   "outputs": [
    {
     "data": {
      "text/plain": [
       "9668"
      ]
     },
     "execution_count": 9,
     "metadata": {},
     "output_type": "execute_result"
    }
   ],
   "source": [
    "test(distilled_model,test_loader)"
   ]
  },
  {
   "cell_type": "code",
   "execution_count": 10,
   "id": "2ebdd94e",
   "metadata": {},
   "outputs": [
    {
     "name": "stdout",
     "output_type": "stream",
     "text": [
      "0 tensor(1.3143)\n",
      "1 tensor(1.3028)\n",
      "2 tensor(1.2989)\n",
      "3 tensor(1.2962)\n",
      "4 tensor(1.2946)\n",
      "5 tensor(1.2932)\n",
      "6 tensor(1.2921)\n",
      "7 tensor(1.2911)\n",
      "8 tensor(1.2903)\n",
      "9 tensor(1.2896)\n",
      "10 tensor(1.2889)\n",
      "11 tensor(1.2884)\n",
      "12 tensor(1.2879)\n",
      "13 tensor(1.2874)\n",
      "14 tensor(1.2870)\n",
      "15 tensor(1.2866)\n",
      "16 tensor(1.2863)\n",
      "17 tensor(1.2860)\n",
      "18 tensor(1.2857)\n",
      "19 tensor(1.2855)\n",
      "20 tensor(1.2852)\n",
      "21 tensor(1.2850)\n",
      "22 tensor(1.2848)\n",
      "23 tensor(1.2846)\n",
      "24 tensor(1.2845)\n",
      "25 tensor(1.2843)\n",
      "26 tensor(1.2842)\n",
      "27 tensor(1.2840)\n",
      "28 tensor(1.2839)\n",
      "29 tensor(1.2838)\n",
      "30 tensor(1.2837)\n",
      "31 tensor(1.2836)\n",
      "32 tensor(1.2835)\n",
      "33 tensor(1.2834)\n",
      "34 tensor(1.2833)\n",
      "35 tensor(1.2832)\n",
      "36 tensor(1.2832)\n",
      "37 tensor(1.2831)\n",
      "38 tensor(1.2830)\n",
      "39 tensor(1.2829)\n",
      "40 tensor(1.2829)\n",
      "41 tensor(1.2828)\n",
      "42 tensor(1.2828)\n",
      "43 tensor(1.2827)\n",
      "44 tensor(1.2827)\n",
      "45 tensor(1.2826)\n",
      "46 tensor(1.2826)\n",
      "47 tensor(1.2826)\n",
      "48 tensor(1.2825)\n",
      "49 tensor(1.2825)\n"
     ]
    },
    {
     "data": {
      "text/plain": [
       "9629"
      ]
     },
     "execution_count": 10,
     "metadata": {},
     "output_type": "execute_result"
    }
   ],
   "source": [
    "T = 20\n",
    "alpha = 0.2\n",
    "distill(distilled_model,big_model,T,alpha,transfer_loader,50)\n",
    "test(distilled_model,test_loader)"
   ]
  },
  {
   "cell_type": "code",
   "execution_count": 11,
   "id": "e71eb83e",
   "metadata": {},
   "outputs": [
    {
     "name": "stdout",
     "output_type": "stream",
     "text": [
      "0 tensor(0.1347)\n",
      "1 tensor(0.1319)\n",
      "2 tensor(0.1299)\n",
      "3 tensor(0.1287)\n",
      "4 tensor(0.1285)\n",
      "5 tensor(0.1263)\n",
      "6 tensor(0.1269)\n",
      "7 tensor(0.1276)\n",
      "8 tensor(0.1274)\n",
      "9 tensor(0.1278)\n",
      "10 tensor(0.1261)\n",
      "11 tensor(0.1256)\n",
      "12 tensor(0.1256)\n",
      "13 tensor(0.1271)\n",
      "14 tensor(0.1271)\n",
      "15 tensor(0.1253)\n",
      "16 tensor(0.1250)\n",
      "17 tensor(0.1241)\n",
      "18 tensor(0.1239)\n",
      "19 tensor(0.1251)\n",
      "20 tensor(0.1251)\n",
      "21 tensor(0.1264)\n",
      "22 tensor(0.1252)\n",
      "23 tensor(0.1253)\n",
      "24 tensor(0.1246)\n",
      "25 tensor(0.1234)\n",
      "26 tensor(0.1233)\n",
      "27 tensor(0.1241)\n",
      "28 tensor(0.1243)\n",
      "29 tensor(0.1237)\n",
      "30 tensor(0.1236)\n",
      "31 tensor(0.1243)\n",
      "32 tensor(0.1253)\n",
      "33 tensor(0.1243)\n",
      "34 tensor(0.1238)\n",
      "35 tensor(0.1231)\n",
      "36 tensor(0.1229)\n",
      "37 tensor(0.1244)\n",
      "38 tensor(0.1238)\n",
      "39 tensor(0.1230)\n",
      "40 tensor(0.1231)\n",
      "41 tensor(0.1235)\n",
      "42 tensor(0.1232)\n",
      "43 tensor(0.1226)\n",
      "44 tensor(0.1229)\n",
      "45 tensor(0.1228)\n",
      "46 tensor(0.1231)\n",
      "47 tensor(0.1230)\n",
      "48 tensor(0.1233)\n",
      "49 tensor(0.1239)\n"
     ]
    },
    {
     "data": {
      "text/plain": [
       "9688"
      ]
     },
     "execution_count": 11,
     "metadata": {},
     "output_type": "execute_result"
    }
   ],
   "source": [
    "T = 3\n",
    "alpha = 0.01\n",
    "distill(distilled_model,big_model,T,alpha,transfer_loader,50)\n",
    "test(distilled_model,test_loader)"
   ]
  },
  {
   "cell_type": "code",
   "execution_count": null,
   "id": "112a4a95",
   "metadata": {},
   "outputs": [],
   "source": []
  }
 ],
 "metadata": {
  "kernelspec": {
   "display_name": "Python 3 (ipykernel)",
   "language": "python",
   "name": "python3"
  },
  "language_info": {
   "codemirror_mode": {
    "name": "ipython",
    "version": 3
   },
   "file_extension": ".py",
   "mimetype": "text/x-python",
   "name": "python",
   "nbconvert_exporter": "python",
   "pygments_lexer": "ipython3",
   "version": "3.9.10"
  }
 },
 "nbformat": 4,
 "nbformat_minor": 5
}
