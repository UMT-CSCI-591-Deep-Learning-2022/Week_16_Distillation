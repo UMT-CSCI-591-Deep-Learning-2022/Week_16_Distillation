{
 "cells": [
  {
   "cell_type": "markdown",
   "id": "9e198285",
   "metadata": {},
   "source": [
    "# Knowledge Distillation on MNIST\n",
    "Knowledge distillation is the process of transferring the higher performance of a more expensive model to a smaller one.  In this notebook, we will explore performing this process on MNIST.  To begin with, I have provided access to pre-trained model that is large, but performant.  The exact architecture is not relevant (although you can inspect this easily if you wish).  It is straightforward to load in pytorch with"
   ]
  },
  {
   "cell_type": "code",
   "execution_count": 1,
   "id": "bef4534c",
   "metadata": {},
   "outputs": [],
   "source": [
    "import torch\n",
    "device = 'cuda'\n",
    "\n",
    "class Net(torch.nn.Module):\n",
    "    def __init__(self):\n",
    "        super(Net, self).__init__()\n",
    "        self.l1 = torch.nn.Linear(28**2,800)\n",
    "        self.l2 = torch.nn.Linear(800,800)\n",
    "        self.l3 = torch.nn.Linear(800,10)\n",
    "        self.dropout2 = torch.nn.Dropout(0.5)\n",
    "        self.dropout3 = torch.nn.Dropout(0.5)\n",
    "\n",
    "    def forward(self, x):\n",
    "        x = self.l1(x)\n",
    "        x = torch.relu(x)\n",
    "        x = self.dropout2(x)\n",
    "        x = self.l2(x)\n",
    "        x = torch.relu(x)\n",
    "        x = self.dropout3(x)\n",
    "        x = self.l3(x)\n",
    "        return x\n",
    "    \n",
    "big_model = torch.load('pretrained_model.pt').to(device)"
   ]
  },
  {
   "cell_type": "markdown",
   "id": "78179abb",
   "metadata": {},
   "source": [
    "First, let's establish the baseline performance of the big model on the MNIST test set.  Of course we'll need acces to the MNIST test set to do this.  At the same time, let's also get our transfer set, which in this case will be a $n=10$k subset of the full MNIST training set (using a subset is helpful for speeding up training of distilled models, and also helps showcase some of the improved performance due to model distillation).   "
   ]
  },
  {
   "cell_type": "code",
   "execution_count": 3,
   "id": "177a7acf",
   "metadata": {},
   "outputs": [],
   "source": [
    "from torchvision import transforms, datasets\n",
    "transform=transforms.Compose([\n",
    "    transforms.ToTensor(),\n",
    "    transforms.Normalize((0.1307,), (0.3081,)),\n",
    "    ])\n",
    "\n",
    "dataset_train = datasets.MNIST('./data', train=True, download=True, transform=transform)\n",
    "\n",
    "dataset_test = datasets.MNIST('../data', train=False, download=True, transform=transform)\n",
    "\n",
    "# This is a useful function that I didn't know about before\n",
    "first_10k = list(range(0, 10000))\n",
    "dataset_transfer = torch.utils.data.Subset(dataset_train, first_10k)\n",
    "\n",
    "batch_size = 32\n",
    "num_workers = 4\n",
    "transfer_loader = torch.utils.data.DataLoader(dataset_transfer,batch_size=batch_size,num_workers=num_workers)\n",
    "test_loader = torch.utils.data.DataLoader(dataset_test,batch_size=batch_size,num_workers=num_workers)"
   ]
  },
  {
   "cell_type": "markdown",
   "id": "d5fe32ec",
   "metadata": {},
   "source": [
    "Here's a function that runs the big model in test mode and provides the number of correct examples"
   ]
  },
  {
   "cell_type": "code",
   "execution_count": 4,
   "id": "8937d3ec",
   "metadata": {},
   "outputs": [
    {
     "name": "stdout",
     "output_type": "stream",
     "text": [
      "Large Network Accuracy: 167 wrong 9833/10,000 = 98.33%\n"
     ]
    }
   ],
   "source": [
    "def test(model,test_loader):\n",
    "    correct = 0\n",
    "    counter = 0\n",
    "    model.eval()\n",
    "    with torch.no_grad():\n",
    "        for data,target in test_loader:\n",
    "            data, target = data.to(device), target.to(device)\n",
    "            data = data.reshape(data.shape[0],-1)\n",
    "            logits = model(data)\n",
    "            pred = logits.argmax(dim=1,keepdim=True)\n",
    "            correct += pred.eq(target.view_as(pred)).sum().item()\n",
    "            counter += batch_size\n",
    "    return correct\n",
    "\n",
    "num_correct = test(big_model,test_loader)\n",
    "print(f\"Large Network Accuracy: {10000-num_correct} wrong {num_correct}/10,000 = {(num_correct/10000)*100:0.4}%\")"
   ]
  },
  {
   "cell_type": "markdown",
   "id": "f7d3c34a",
   "metadata": {},
   "source": [
    "We find that the big model gets 167 examples wrong (not quite as good as the Hinton paper, but who cares). \n",
    "\n",
    "Now we would like to perform knowledge distillation by training a smaller model to approximate the larger model's performance on the transfer set.  First, let's build a smaller model.  You may use whatever architecture you choose, but I found that using two hidden layers, each with 200 units along with ReLU activations (and no regularization at all) worked fine."
   ]
  },
  {
   "cell_type": "code",
   "execution_count": 5,
   "id": "f6883202",
   "metadata": {},
   "outputs": [
    {
     "data": {
      "text/plain": [
       "SmallNet(\n",
       "  (l1): Linear(in_features=784, out_features=400, bias=True)\n",
       "  (l2): Linear(in_features=400, out_features=10, bias=True)\n",
       "  (dropout1): Dropout(p=0.2, inplace=False)\n",
       ")"
      ]
     },
     "execution_count": 5,
     "metadata": {},
     "output_type": "execute_result"
    }
   ],
   "source": [
    "class SmallNet(torch.nn.Module):\n",
    "    def __init__(self):\n",
    "        super(SmallNet, self).__init__()\n",
    "        # Build a SmallNet\n",
    "        self.l1 = torch.nn.Linear(28**2,400)\n",
    "        self.l2 = torch.nn.Linear(400,10)\n",
    "        self.dropout1 = torch.nn.Dropout(0.2)\n",
    "\n",
    "    def forward(self, x):\n",
    "        # Don't forget to put the right operations here too!\n",
    "        x = self.l1(x)\n",
    "        x = torch.relu(x)\n",
    "        x = self.dropout1(x)\n",
    "        x = self.l2(x)\n",
    "        \n",
    "        return x\n",
    "    \n",
    "small_model = SmallNet()\n",
    "small_model.to(device)"
   ]
  },
  {
   "cell_type": "markdown",
   "id": "895fe301",
   "metadata": {},
   "source": [
    "**To establish a baseline performance level, train the small model on the transfer set**  "
   ]
  },
  {
   "cell_type": "code",
   "execution_count": 6,
   "id": "feac05a0",
   "metadata": {
    "scrolled": true
   },
   "outputs": [
    {
     "name": "stdout",
     "output_type": "stream",
     "text": [
      "0 tensor(0.4276, device='cuda:0')\n",
      "1 tensor(0.1962, device='cuda:0')\n",
      "2 tensor(0.1329, device='cuda:0')\n",
      "3 tensor(0.0956, device='cuda:0')\n",
      "4 tensor(0.0723, device='cuda:0')\n",
      "5 tensor(0.0566, device='cuda:0')\n",
      "6 tensor(0.0453, device='cuda:0')\n",
      "7 tensor(0.0382, device='cuda:0')\n",
      "8 tensor(0.0315, device='cuda:0')\n",
      "9 tensor(0.0275, device='cuda:0')\n",
      "10 tensor(0.0340, device='cuda:0')\n",
      "11 tensor(0.0252, device='cuda:0')\n",
      "12 tensor(0.0237, device='cuda:0')\n",
      "13 tensor(0.0296, device='cuda:0')\n",
      "14 tensor(0.0337, device='cuda:0')\n",
      "15 tensor(0.0253, device='cuda:0')\n",
      "16 tensor(0.0155, device='cuda:0')\n",
      "17 tensor(0.0182, device='cuda:0')\n",
      "18 tensor(0.0112, device='cuda:0')\n",
      "19 tensor(0.0194, device='cuda:0')\n",
      "20 tensor(0.0277, device='cuda:0')\n",
      "21 tensor(0.0252, device='cuda:0')\n",
      "22 tensor(0.0181, device='cuda:0')\n",
      "23 tensor(0.0137, device='cuda:0')\n",
      "24 tensor(0.0162, device='cuda:0')\n",
      "25 tensor(0.0143, device='cuda:0')\n",
      "26 tensor(0.0279, device='cuda:0')\n",
      "27 tensor(0.0217, device='cuda:0')\n",
      "28 tensor(0.0139, device='cuda:0')\n",
      "29 tensor(0.0185, device='cuda:0')\n",
      "30 tensor(0.0180, device='cuda:0')\n",
      "31 tensor(0.0148, device='cuda:0')\n",
      "32 tensor(0.0093, device='cuda:0')\n",
      "33 tensor(0.0171, device='cuda:0')\n",
      "34 tensor(0.0234, device='cuda:0')\n",
      "35 tensor(0.0157, device='cuda:0')\n",
      "36 tensor(0.0175, device='cuda:0')\n",
      "37 tensor(0.0178, device='cuda:0')\n",
      "38 tensor(0.0210, device='cuda:0')\n",
      "39 tensor(0.0134, device='cuda:0')\n",
      "40 tensor(0.0102, device='cuda:0')\n",
      "41 tensor(0.0118, device='cuda:0')\n",
      "42 tensor(0.0143, device='cuda:0')\n",
      "43 tensor(0.0154, device='cuda:0')\n",
      "44 tensor(0.0103, device='cuda:0')\n",
      "45 tensor(0.0114, device='cuda:0')\n",
      "46 tensor(0.0154, device='cuda:0')\n",
      "47 tensor(0.0174, device='cuda:0')\n",
      "48 tensor(0.0133, device='cuda:0')\n",
      "49 tensor(0.0166, device='cuda:0')\n"
     ]
    }
   ],
   "source": [
    "# I'm giving you this training function: you'll need to modify it below to do knowledge distillation\n",
    "def train(model,train_loader,n_epochs):\n",
    "    optimizer = torch.optim.Adam(model.parameters(),1e-3)\n",
    "    loss_fn = torch.nn.CrossEntropyLoss()\n",
    "    model.train()\n",
    "    for epoch in range(n_epochs):\n",
    "        avg_l = 0.0\n",
    "        counter = 0\n",
    "        for batch_idx, (data, target) in enumerate(train_loader):\n",
    "            data, target = data.to(device), target.to(device)\n",
    "            data = data.reshape(data.shape[0],-1)\n",
    "            optimizer.zero_grad()\n",
    "            logits = model(data)\n",
    "            L = loss_fn(logits,target)\n",
    "            L.backward()\n",
    "            optimizer.step()\n",
    "            with torch.no_grad():\n",
    "                avg_l += L\n",
    "                counter += 1\n",
    "        print(epoch,avg_l/counter)\n",
    "\n",
    "train(small_model,transfer_loader,50)"
   ]
  },
  {
   "cell_type": "markdown",
   "id": "85a60a05",
   "metadata": {},
   "source": [
    "**Evaluate the small model on the test set, and comment on its accuracy relative to the big model.**  As you might expect, the performance is relatively worse.  "
   ]
  },
  {
   "cell_type": "code",
   "execution_count": 7,
   "id": "5f760c43",
   "metadata": {},
   "outputs": [
    {
     "name": "stdout",
     "output_type": "stream",
     "text": [
      "Large Network Accuracy: 167 wrong 9833/10,000 = 98.33%\n",
      "Small Network Accuracy: 425 wrong 9575/10,000 = 95.75%\n"
     ]
    }
   ],
   "source": [
    "small_acc = test(small_model,test_loader)\n",
    "big_acc = test(big_model,test_loader)\n",
    "\n",
    "print(f\"Large Network Accuracy: {10000-big_acc} wrong {big_acc}/10,000 = {(big_acc/10000)*100:0.4}%\")\n",
    "print(f\"Small Network Accuracy: {10000-small_acc} wrong {small_acc}/10,000 = {(small_acc/10000)*100:0.4}%\")\n"
   ]
  },
  {
   "cell_type": "markdown",
   "id": "bbf2abf7",
   "metadata": {},
   "source": [
    "The small networks accuracy is worse by a factor of approximately 2. Which is considerably worse, but not terrible.This is mainly because the original big network is not that complex when compared to our small model."
   ]
  },
  {
   "cell_type": "markdown",
   "id": "6343d3eb",
   "metadata": {},
   "source": [
    "**The primary task of this notebook is now as follows: create a new training function similar to \"train\" above, but instead called \"distill\".**  \"distill\" should perform knowledge distillation as outlined in this week's paper.  It should accept a few additional arguments compared to train, namely the big model, the temperature hyperparameter, and a hyperparameter $\\alpha$ that weights the relative magnitude of the soft target loss and the hard target loss."
   ]
  },
  {
   "cell_type": "code",
   "execution_count": 8,
   "id": "206a7384",
   "metadata": {},
   "outputs": [
    {
     "name": "stdout",
     "output_type": "stream",
     "text": [
      "0 tensor(1.7695, device='cuda:0')\n",
      "1 tensor(1.6145, device='cuda:0')\n",
      "2 tensor(1.5627, device='cuda:0')\n",
      "3 tensor(1.5324, device='cuda:0')\n",
      "4 tensor(1.5143, device='cuda:0')\n",
      "5 tensor(1.5016, device='cuda:0')\n",
      "6 tensor(1.4920, device='cuda:0')\n",
      "7 tensor(1.4861, device='cuda:0')\n",
      "8 tensor(1.4812, device='cuda:0')\n",
      "9 tensor(1.4774, device='cuda:0')\n",
      "10 tensor(1.4738, device='cuda:0')\n",
      "11 tensor(1.4718, device='cuda:0')\n",
      "12 tensor(1.4703, device='cuda:0')\n",
      "13 tensor(1.4683, device='cuda:0')\n",
      "14 tensor(1.4678, device='cuda:0')\n",
      "15 tensor(1.4655, device='cuda:0')\n",
      "16 tensor(1.4648, device='cuda:0')\n",
      "17 tensor(1.4639, device='cuda:0')\n",
      "18 tensor(1.4631, device='cuda:0')\n",
      "19 tensor(1.4622, device='cuda:0')\n",
      "20 tensor(1.4621, device='cuda:0')\n",
      "21 tensor(1.4607, device='cuda:0')\n",
      "22 tensor(1.4600, device='cuda:0')\n",
      "23 tensor(1.4591, device='cuda:0')\n",
      "24 tensor(1.4586, device='cuda:0')\n",
      "25 tensor(1.4583, device='cuda:0')\n",
      "26 tensor(1.4586, device='cuda:0')\n",
      "27 tensor(1.4593, device='cuda:0')\n",
      "28 tensor(1.4587, device='cuda:0')\n",
      "29 tensor(1.4580, device='cuda:0')\n",
      "30 tensor(1.4566, device='cuda:0')\n",
      "31 tensor(1.4558, device='cuda:0')\n",
      "32 tensor(1.4560, device='cuda:0')\n",
      "33 tensor(1.4556, device='cuda:0')\n",
      "34 tensor(1.4547, device='cuda:0')\n",
      "35 tensor(1.4549, device='cuda:0')\n",
      "36 tensor(1.4553, device='cuda:0')\n",
      "37 tensor(1.4555, device='cuda:0')\n",
      "38 tensor(1.4555, device='cuda:0')\n",
      "39 tensor(1.4558, device='cuda:0')\n",
      "40 tensor(1.4562, device='cuda:0')\n",
      "41 tensor(1.4545, device='cuda:0')\n",
      "42 tensor(1.4535, device='cuda:0')\n",
      "43 tensor(1.4532, device='cuda:0')\n",
      "44 tensor(1.4542, device='cuda:0')\n",
      "45 tensor(1.4538, device='cuda:0')\n",
      "46 tensor(1.4531, device='cuda:0')\n",
      "47 tensor(1.4529, device='cuda:0')\n",
      "48 tensor(1.4529, device='cuda:0')\n",
      "49 tensor(1.4537, device='cuda:0')\n"
     ]
    }
   ],
   "source": [
    "distilled_model = SmallNet()\n",
    "distilled_model.to(device)\n",
    "\n",
    "# The body of this method is currently copied verbatim from the train method above: \n",
    "# you will need to modify it to utilize the big_model, temperature, and alpha values \n",
    "# to perform knowledge distillation\n",
    "def distill(small_model,big_model,T,alpha,transfer_loader,n_epochs):\n",
    "    # produce soft targets --> involves T\n",
    "    # use categorical cross entropy with temp adjusted logits of soft targets + big model\n",
    "    softMax = torch.nn.Softmax(dim=1)\n",
    "    \n",
    "    optimizer = torch.optim.Adam(small_model.parameters(),1e-3)\n",
    "    loss_fn = torch.nn.CrossEntropyLoss()\n",
    "    small_model.train()\n",
    "    big_model.eval()\n",
    "    \n",
    "    for epoch in range(n_epochs):\n",
    "        avg_l = 0.0\n",
    "        counter = 0\n",
    "        for batch_idx, (data, target) in enumerate(transfer_loader):\n",
    "            data, target = data.to(device), target.to(device)\n",
    "            data = data.reshape(data.shape[0],-1)\n",
    "            optimizer.zero_grad()\n",
    "            \n",
    "            # evaluate batch of data with big model \n",
    "            big_logits = big_model(data)\n",
    "            small_logits = small_model(data)\n",
    "            \n",
    "            # pass through softmax + adjust with temperature factor\n",
    "            soft_targets = softMax(big_logits/T)\n",
    "            \n",
    "            # loss of distillation model to soft targets\n",
    "            L_soft = loss_fn(small_logits/T,soft_targets)\n",
    "            \n",
    "            # regular loss of distillation model\n",
    "            L_hard = loss_fn(small_logits,target)\n",
    "\n",
    "            L = alpha*L_hard + (1-alpha)*L_soft\n",
    "\n",
    "            L.backward()\n",
    "            optimizer.step()\n",
    "            \n",
    "            with torch.no_grad():\n",
    "                avg_l += L\n",
    "                counter += 1\n",
    "                \n",
    "        print(epoch,avg_l/counter)\n",
    "        \n",
    "T = 20\n",
    "alpha = 1e-1\n",
    "distill(distilled_model,big_model,T,alpha,transfer_loader,50)"
   ]
  },
  {
   "cell_type": "markdown",
   "id": "4f8bdbbc",
   "metadata": {},
   "source": [
    "**Finally, test your distilled model (on the test set) and describe how it performs relative to both big and small models.**"
   ]
  },
  {
   "cell_type": "code",
   "execution_count": 9,
   "id": "70ad6e62",
   "metadata": {},
   "outputs": [
    {
     "name": "stdout",
     "output_type": "stream",
     "text": [
      "Large Network Accuracy: 167 wrong 9833/10,000 = 98.33%\n",
      "Small Network Accuracy: 425 wrong 9575/10,000 = 95.75%\n",
      "Distilled Network Accuracy: 324 wrong 9676/10,000 = 96.76%\n"
     ]
    }
   ],
   "source": [
    "dist_acc = test(distilled_model,test_loader)\n",
    "\n",
    "print(f\"Large Network Accuracy: {10000-big_acc} wrong {big_acc}/10,000 = {(big_acc/10000)*100:0.4}%\")\n",
    "print(f\"Small Network Accuracy: {10000-small_acc} wrong {small_acc}/10,000 = {(small_acc/10000)*100:0.4}%\")\n",
    "print(f\"Distilled Network Accuracy: {10000-dist_acc} wrong {dist_acc}/10,000 = {(dist_acc/10000)*100:0.4}%\")"
   ]
  },
  {
   "cell_type": "markdown",
   "id": "a8a6b882",
   "metadata": {},
   "source": [
    "The distilled model performs better than the small model, but not significantly so. The large network has an 98.33% accuracy, and the small model has an accuracy of 95.8%. The distilled model has an accuracy of 96.8%, so it performs better, and gets about 100 less wrong. The distilled model still does a better job than the small model so you can see how powerful this architecture can be, even on a simple example."
   ]
  },
  {
   "cell_type": "code",
   "execution_count": null,
   "id": "144db27a",
   "metadata": {},
   "outputs": [],
   "source": []
  }
 ],
 "metadata": {
  "kernelspec": {
   "display_name": "Python 3 (ipykernel)",
   "language": "python",
   "name": "python3"
  },
  "language_info": {
   "codemirror_mode": {
    "name": "ipython",
    "version": 3
   },
   "file_extension": ".py",
   "mimetype": "text/x-python",
   "name": "python",
   "nbconvert_exporter": "python",
   "pygments_lexer": "ipython3",
   "version": "3.9.7"
  }
 },
 "nbformat": 4,
 "nbformat_minor": 5
}
