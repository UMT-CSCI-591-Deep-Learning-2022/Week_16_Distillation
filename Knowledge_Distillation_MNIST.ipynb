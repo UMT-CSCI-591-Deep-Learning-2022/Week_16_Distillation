{
 "cells": [
  {
   "cell_type": "markdown",
   "id": "9e198285",
   "metadata": {},
   "source": [
    "# Knowledge Distillation on MNIST\n",
    "Knowledge distillation is the process of transferring the higher performance of a more expensive model to a smaller one.  In this notebook, we will explore performing this process on MNIST.  To begin with, I have provided access to pre-trained model that is large, but performant.  The exact architecture is not relevant (although you can inspect this easily if you wish).  It is straightforward to load in pytorch with"
   ]
  },
  {
   "cell_type": "code",
   "execution_count": 12,
   "id": "bef4534c",
   "metadata": {},
   "outputs": [],
   "source": [
    "import torch\n",
    "device = 'cpu'\n",
    "\n",
    "class Net(torch.nn.Module):\n",
    "    def __init__(self):\n",
    "        super(Net, self).__init__()\n",
    "        self.l1 = torch.nn.Linear(28**2,800)\n",
    "        self.l2 = torch.nn.Linear(800,800)\n",
    "        self.l3 = torch.nn.Linear(800,10)\n",
    "        self.dropout2 = torch.nn.Dropout(0.5)\n",
    "        self.dropout3 = torch.nn.Dropout(0.5)\n",
    "\n",
    "    def forward(self, x):\n",
    "        x = self.l1(x)\n",
    "        x = torch.relu(x)\n",
    "        x = self.dropout2(x)\n",
    "        x = self.l2(x)\n",
    "        x = torch.relu(x)\n",
    "        x = self.dropout3(x)\n",
    "        x = self.l3(x)\n",
    "        return x\n",
    "    \n",
    "big_model = torch.load('pretrained_model.pt').to(device)"
   ]
  },
  {
   "cell_type": "markdown",
   "id": "78179abb",
   "metadata": {},
   "source": [
    "First, let's establish the baseline performance of the big model on the MNIST test set.  Of course we'll need acces to the MNIST test set to do this.  At the same time, let's also get our transfer set, which in this case will be a $n=10$k subset of the full MNIST training set (using a subset is helpful for speeding up training of distilled models, and also helps showcase some of the improved performance due to model distillation).   "
   ]
  },
  {
   "cell_type": "code",
   "execution_count": 13,
   "id": "177a7acf",
   "metadata": {},
   "outputs": [],
   "source": [
    "from torchvision import transforms, datasets\n",
    "transform=transforms.Compose([\n",
    "    transforms.ToTensor(),\n",
    "    transforms.Normalize((0.1307,), (0.3081,)),\n",
    "    ])\n",
    "\n",
    "dataset_train = datasets.MNIST('./data', train=True, download=True, transform=transform)\n",
    "\n",
    "dataset_test = datasets.MNIST('../data', train=False, download=True, transform=transform)\n",
    "\n",
    "# This is a useful function that I didn't know about before\n",
    "first_10k = list(range(0, 10000))\n",
    "dataset_transfer = torch.utils.data.Subset(dataset_train, first_10k)\n",
    "\n",
    "batch_size = 32\n",
    "num_workers = 4\n",
    "transfer_loader = torch.utils.data.DataLoader(dataset_transfer,batch_size=batch_size,num_workers=num_workers)\n",
    "test_loader = torch.utils.data.DataLoader(dataset_test,batch_size=batch_size,num_workers=num_workers)"
   ]
  },
  {
   "cell_type": "markdown",
   "id": "d5fe32ec",
   "metadata": {},
   "source": [
    "Here's a function that runs the big model in test mode and provides the number of correct examples"
   ]
  },
  {
   "cell_type": "code",
   "execution_count": 14,
   "id": "8937d3ec",
   "metadata": {},
   "outputs": [
    {
     "data": {
      "text/plain": [
       "9833"
      ]
     },
     "execution_count": 14,
     "metadata": {},
     "output_type": "execute_result"
    }
   ],
   "source": [
    "def test(model,test_loader):\n",
    "    correct = 0\n",
    "    counter = 0\n",
    "    model.eval()\n",
    "    with torch.no_grad():\n",
    "        for data,target in test_loader:\n",
    "            data, target = data.to(device), target.to(device)\n",
    "            data = data.reshape(data.shape[0],-1)\n",
    "            logits = model(data)\n",
    "            pred = logits.argmax(dim=1,keepdim=True)\n",
    "            correct += pred.eq(target.view_as(pred)).sum().item()\n",
    "            counter += batch_size\n",
    "    return correct\n",
    "\n",
    "test(big_model,test_loader)"
   ]
  },
  {
   "cell_type": "markdown",
   "id": "f7d3c34a",
   "metadata": {},
   "source": [
    "We find that the big model gets 167 examples wrong (not quite as good as the Hinton paper, but who cares). \n",
    "\n",
    "Now we would like to perform knowledge distillation by training a smaller model to approximate the larger model's performance on the transfer set.  First, let's build a smaller model.  You may use whatever architecture you choose, but I found that using two hidden layers, each with 200 units along with ReLU activations (and no regularization at all) worked fine."
   ]
  },
  {
   "cell_type": "code",
   "execution_count": 15,
   "id": "f6883202",
   "metadata": {},
   "outputs": [
    {
     "data": {
      "text/plain": [
       "SmallNet(\n",
       "  (l1): Linear(in_features=784, out_features=400, bias=True)\n",
       "  (l2): Linear(in_features=400, out_features=400, bias=True)\n",
       "  (l3): Linear(in_features=400, out_features=10, bias=True)\n",
       ")"
      ]
     },
     "execution_count": 15,
     "metadata": {},
     "output_type": "execute_result"
    }
   ],
   "source": [
    "class SmallNet(torch.nn.Module):\n",
    "    def __init__(self):\n",
    "        super(SmallNet, self).__init__()\n",
    "        # Build a SmallNet\n",
    "        self.l1 = torch.nn.Linear(28**2, 400)\n",
    "        self.l2 = torch.nn.Linear(400, 400)\n",
    "        self.l3 = torch.nn.Linear(400, 10)\n",
    "\n",
    "    def forward(self, x):\n",
    "        # Don't forget to put the right operations here too!\n",
    "        x = self.l1(x)\n",
    "        x = torch.relu(x)\n",
    "        x = self.l2(x)\n",
    "        x = torch.relu(x)\n",
    "        x = self.l3(x)\n",
    "        return x\n",
    "    \n",
    "small_model = SmallNet()\n",
    "small_model.to(device)"
   ]
  },
  {
   "cell_type": "markdown",
   "id": "895fe301",
   "metadata": {},
   "source": [
    "**To establish a baseline performance level, train the small model on the transfer set**  "
   ]
  },
  {
   "cell_type": "code",
   "execution_count": 16,
   "id": "feac05a0",
   "metadata": {},
   "outputs": [
    {
     "name": "stdout",
     "output_type": "stream",
     "text": [
      "0 tensor(0.4145)\n",
      "1 tensor(0.1704)\n",
      "2 tensor(0.1022)\n",
      "3 tensor(0.0847)\n",
      "4 tensor(0.0544)\n",
      "5 tensor(0.0446)\n",
      "6 tensor(0.0378)\n",
      "7 tensor(0.0522)\n",
      "8 tensor(0.0350)\n",
      "9 tensor(0.0252)\n",
      "10 tensor(0.0351)\n",
      "11 tensor(0.0320)\n",
      "12 tensor(0.0213)\n",
      "13 tensor(0.0246)\n",
      "14 tensor(0.0199)\n",
      "15 tensor(0.0273)\n",
      "16 tensor(0.0257)\n",
      "17 tensor(0.0190)\n",
      "18 tensor(0.0092)\n",
      "19 tensor(0.0134)\n",
      "20 tensor(0.0165)\n",
      "21 tensor(0.0319)\n",
      "22 tensor(0.0219)\n",
      "23 tensor(0.0328)\n",
      "24 tensor(0.0156)\n",
      "25 tensor(0.0097)\n",
      "26 tensor(0.0107)\n",
      "27 tensor(0.0143)\n",
      "28 tensor(0.0150)\n",
      "29 tensor(0.0102)\n",
      "30 tensor(0.0082)\n",
      "31 tensor(0.0214)\n",
      "32 tensor(0.0191)\n",
      "33 tensor(0.0160)\n",
      "34 tensor(0.0214)\n",
      "35 tensor(0.0190)\n",
      "36 tensor(0.0194)\n",
      "37 tensor(0.0036)\n",
      "38 tensor(0.0095)\n",
      "39 tensor(0.0100)\n",
      "40 tensor(0.0002)\n",
      "41 tensor(1.6237e-05)\n",
      "42 tensor(1.2766e-05)\n",
      "43 tensor(1.0679e-05)\n",
      "44 tensor(9.1268e-06)\n",
      "45 tensor(7.8916e-06)\n",
      "46 tensor(6.8736e-06)\n",
      "47 tensor(6.0027e-06)\n",
      "48 tensor(5.2470e-06)\n",
      "49 tensor(4.5937e-06)\n"
     ]
    }
   ],
   "source": [
    "# I'm giving you this training function: you'll need to modify it below to do knowledge distillation\n",
    "def train(model,train_loader,n_epochs):\n",
    "    optimizer = torch.optim.Adam(model.parameters(),1e-3)\n",
    "    loss_fn = torch.nn.CrossEntropyLoss()\n",
    "    model.train()\n",
    "    for epoch in range(n_epochs):\n",
    "        avg_l = 0.0\n",
    "        counter = 0\n",
    "        for batch_idx, (data, target) in enumerate(train_loader):\n",
    "            data, target = data.to(device), target.to(device)\n",
    "            data = data.reshape(data.shape[0],-1)\n",
    "            optimizer.zero_grad()\n",
    "            logits = model(data)\n",
    "            L = loss_fn(logits,target)\n",
    "            L.backward()\n",
    "            optimizer.step()\n",
    "            with torch.no_grad():\n",
    "                avg_l += L\n",
    "                counter += 1\n",
    "        print(epoch,avg_l/counter)\n",
    "\n",
    "train(small_model,transfer_loader,50)"
   ]
  },
  {
   "cell_type": "markdown",
   "id": "85a60a05",
   "metadata": {},
   "source": [
    "**Evaluate the small model on the test set, and comment on its accuracy relative to the big model.**  As you might expect, the performance is relatively worse.  "
   ]
  },
  {
   "cell_type": "code",
   "execution_count": 17,
   "id": "5f760c43",
   "metadata": {},
   "outputs": [
    {
     "name": "stdout",
     "output_type": "stream",
     "text": [
      "number wrong:  335\n"
     ]
    }
   ],
   "source": [
    "num_correct = test(small_model, test_loader)\n",
    "print('number wrong: ', 10000 - num_correct)"
   ]
  },
  {
   "cell_type": "markdown",
   "id": "6343d3eb",
   "metadata": {},
   "source": [
    "**The primary task of this notebook is now as follows: create a new training function similar to \"train\" above, but instead called \"distill\".**  \"distill\" should perform knowledge distillation as outlined in this week's paper.  It should accept a few additional arguments compared to train, namely the big model, the temperature hyperparameter, and a hyperparameter $\\alpha$ that weights the relative magnitude of the soft target loss and the hard target loss."
   ]
  },
  {
   "cell_type": "code",
   "execution_count": 23,
   "id": "206a7384",
   "metadata": {},
   "outputs": [
    {
     "name": "stdout",
     "output_type": "stream",
     "text": [
      "0 tensor(1.1485)\n",
      "1 tensor(0.8840)\n",
      "2 tensor(0.8098)\n",
      "3 tensor(0.7680)\n",
      "4 tensor(0.7421)\n",
      "5 tensor(0.7303)\n",
      "6 tensor(0.7212)\n",
      "7 tensor(0.7146)\n",
      "8 tensor(0.7087)\n",
      "9 tensor(0.7093)\n",
      "10 tensor(0.7208)\n",
      "11 tensor(0.7219)\n",
      "12 tensor(0.7154)\n",
      "13 tensor(0.7056)\n",
      "14 tensor(0.7011)\n",
      "15 tensor(0.6991)\n",
      "16 tensor(0.6977)\n",
      "17 tensor(0.6967)\n",
      "18 tensor(0.6960)\n",
      "19 tensor(0.7328)\n",
      "20 tensor(0.7326)\n",
      "21 tensor(0.7056)\n",
      "22 tensor(0.6997)\n",
      "23 tensor(0.6973)\n",
      "24 tensor(0.6961)\n",
      "25 tensor(0.6953)\n",
      "26 tensor(0.6948)\n",
      "27 tensor(0.6943)\n",
      "28 tensor(0.6940)\n",
      "29 tensor(0.6938)\n",
      "30 tensor(0.7009)\n",
      "31 tensor(0.7265)\n",
      "32 tensor(0.7059)\n",
      "33 tensor(0.6990)\n",
      "34 tensor(0.6959)\n",
      "35 tensor(0.6946)\n",
      "36 tensor(0.6939)\n",
      "37 tensor(0.6935)\n",
      "38 tensor(0.6932)\n",
      "39 tensor(0.6930)\n",
      "40 tensor(0.6931)\n",
      "41 tensor(0.6945)\n",
      "42 tensor(0.7020)\n",
      "43 tensor(0.7139)\n",
      "44 tensor(0.7016)\n",
      "45 tensor(0.6963)\n",
      "46 tensor(0.6944)\n",
      "47 tensor(0.6935)\n",
      "48 tensor(0.6929)\n",
      "49 tensor(0.6927)\n"
     ]
    }
   ],
   "source": [
    "distilled_model = SmallNet()\n",
    "distilled_model.to(device)\n",
    "\n",
    "# The body of this method is currently copied verbatim from the train method above: \n",
    "# you will need to modify it to utilize the big_model, temperature, and alpha values \n",
    "# to perform knowledge distillation\n",
    "def distill(small_model,big_model,T,alpha,transfer_loader,n_epochs):\n",
    "    optimizer = torch.optim.Adam(small_model.parameters(),1e-3)\n",
    "    loss_fn = torch.nn.CrossEntropyLoss()\n",
    "    small_model.train()\n",
    "    for epoch in range(n_epochs):\n",
    "        avg_l = 0.0\n",
    "        counter = 0\n",
    "        for batch_idx, (data, target) in enumerate(transfer_loader):\n",
    "            data, target = data.to(device), target.to(device)\n",
    "            data = data.reshape(data.shape[0],-1)\n",
    "            optimizer.zero_grad()\n",
    "            \n",
    "            big_logits = big_model(data)\n",
    "            softo = torch.nn.Softmax(dim=1)\n",
    "            big_logits = softo(big_logits/T)\n",
    "            small_logits = small_model(data)\n",
    "            \n",
    "            L_distill = loss_fn(small_logits, target)\n",
    "            L_student = loss_fn(small_logits/T, big_logits)\n",
    "            \n",
    "            L = ((1 - alpha) * L_distill + alpha * L_student)\n",
    "            \n",
    "            L.backward()\n",
    "            optimizer.step()\n",
    "            with torch.no_grad():\n",
    "                avg_l += L\n",
    "                counter += 1\n",
    "        print(epoch,avg_l/counter)\n",
    "\n",
    "T = 10\n",
    "alpha = .8\n",
    "distill(distilled_model,big_model,T,alpha,transfer_loader,50)"
   ]
  },
  {
   "cell_type": "markdown",
   "id": "4f8bdbbc",
   "metadata": {},
   "source": [
    "**Finally, test your distilled model (on the test set) and describe how it performs relative to both big and small models.**"
   ]
  },
  {
   "cell_type": "code",
   "execution_count": 24,
   "id": "70ad6e62",
   "metadata": {},
   "outputs": [
    {
     "name": "stdout",
     "output_type": "stream",
     "text": [
      "number wrong:  259\n"
     ]
    }
   ],
   "source": [
    "num_correct = test(distilled_model, test_loader)\n",
    "print('number wrong: ', 10000 - num_correct)"
   ]
  },
  {
   "cell_type": "code",
   "execution_count": null,
   "id": "b2414799",
   "metadata": {},
   "outputs": [],
   "source": []
  }
 ],
 "metadata": {
  "kernelspec": {
   "display_name": "Python 3 (ipykernel)",
   "language": "python",
   "name": "python3"
  },
  "language_info": {
   "codemirror_mode": {
    "name": "ipython",
    "version": 3
   },
   "file_extension": ".py",
   "mimetype": "text/x-python",
   "name": "python",
   "nbconvert_exporter": "python",
   "pygments_lexer": "ipython3",
   "version": "3.9.10"
  }
 },
 "nbformat": 4,
 "nbformat_minor": 5
}
