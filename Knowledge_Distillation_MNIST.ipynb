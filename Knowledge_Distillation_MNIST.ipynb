{
 "cells": [
  {
   "cell_type": "markdown",
   "id": "9e198285",
   "metadata": {},
   "source": [
    "# Knowledge Distillation on MNIST\n",
    "Knowledge distillation is the process of transferring the higher performance of a more expensive model to a smaller one.  In this notebook, we will explore performing this process on MNIST.  To begin with, I have provided access to pre-trained model that is large, but performant.  The exact architecture is not relevant (although you can inspect this easily if you wish).  It is straightforward to load in pytorch with"
   ]
  },
  {
   "cell_type": "code",
   "execution_count": 6,
   "id": "bef4534c",
   "metadata": {},
   "outputs": [],
   "source": [
    "# Gina Mazza\n",
    "\n",
    "\n",
    "import torch\n",
    "import torch.nn as nn\n",
    "device = 'cpu'\n",
    "\n",
    "class Net(torch.nn.Module):\n",
    "    def __init__(self):\n",
    "        super(Net, self).__init__()\n",
    "        self.l1 = torch.nn.Linear(28**2,800)\n",
    "        self.l2 = torch.nn.Linear(800,800)\n",
    "        self.l3 = torch.nn.Linear(800,10)\n",
    "        self.dropout2 = torch.nn.Dropout(0.5)\n",
    "        self.dropout3 = torch.nn.Dropout(0.5)\n",
    "\n",
    "    def forward(self, x):\n",
    "        x = self.l1(x)\n",
    "        x = torch.relu(x)\n",
    "        x = self.dropout2(x)\n",
    "        x = self.l2(x)\n",
    "        x = torch.relu(x)\n",
    "        x = self.dropout3(x)\n",
    "        x = self.l3(x)\n",
    "        return x\n",
    "    \n",
    "big_model = torch.load('pretrained_model.pt').to(device)"
   ]
  },
  {
   "cell_type": "markdown",
   "id": "78179abb",
   "metadata": {},
   "source": [
    "First, let's establish the baseline performance of the big model on the MNIST test set.  Of course we'll need acces to the MNIST test set to do this.  At the same time, let's also get our transfer set, which in this case will be a $n=10$k subset of the full MNIST training set (using a subset is helpful for speeding up training of distilled models, and also helps showcase some of the improved performance due to model distillation).   "
   ]
  },
  {
   "cell_type": "code",
   "execution_count": 2,
   "id": "177a7acf",
   "metadata": {},
   "outputs": [],
   "source": [
    "from torchvision import transforms, datasets\n",
    "transform=transforms.Compose([\n",
    "    transforms.ToTensor(),\n",
    "    transforms.Normalize((0.1307,), (0.3081,)),\n",
    "    ])\n",
    "\n",
    "dataset_train = datasets.MNIST('./data', train=True, download=True, transform=transform)\n",
    "\n",
    "dataset_test = datasets.MNIST('../data', train=False, download=True, transform=transform)\n",
    "\n",
    "# This is a useful function that I didn't know about before\n",
    "first_10k = list(range(0, 10000))\n",
    "dataset_transfer = torch.utils.data.Subset(dataset_train, first_10k)\n",
    "\n",
    "batch_size = 32\n",
    "num_workers = 4\n",
    "transfer_loader = torch.utils.data.DataLoader(dataset_transfer,batch_size=batch_size,num_workers=num_workers)\n",
    "test_loader = torch.utils.data.DataLoader(dataset_test,batch_size=batch_size,num_workers=num_workers)"
   ]
  },
  {
   "cell_type": "markdown",
   "id": "d5fe32ec",
   "metadata": {},
   "source": [
    "Here's a function that runs the big model in test mode and provides the number of correct examples"
   ]
  },
  {
   "cell_type": "code",
   "execution_count": 3,
   "id": "8937d3ec",
   "metadata": {},
   "outputs": [
    {
     "data": {
      "text/plain": [
       "9833"
      ]
     },
     "execution_count": 3,
     "metadata": {},
     "output_type": "execute_result"
    }
   ],
   "source": [
    "def test(model,test_loader):\n",
    "    correct = 0\n",
    "    counter = 0\n",
    "    model.eval()\n",
    "    with torch.no_grad():\n",
    "        for data,target in test_loader:\n",
    "            data, target = data.to(device), target.to(device)\n",
    "            data = data.reshape(data.shape[0],-1)\n",
    "            logits = model(data)\n",
    "            pred = logits.argmax(dim=1,keepdim=True)\n",
    "            correct += pred.eq(target.view_as(pred)).sum().item()\n",
    "            counter += batch_size\n",
    "    return correct\n",
    "\n",
    "test(big_model,test_loader)"
   ]
  },
  {
   "cell_type": "markdown",
   "id": "f7d3c34a",
   "metadata": {},
   "source": [
    "We find that the big model gets 167 examples wrong (not quite as good as the Hinton paper, but who cares). \n",
    "\n",
    "Now we would like to perform knowledge distillation by training a smaller model to approximate the larger model's performance on the transfer set.  First, let's build a smaller model.  You may use whatever architecture you choose, but I found that using two hidden layers, each with 200 units along with ReLU activations (and no regularization at all) worked fine."
   ]
  },
  {
   "cell_type": "code",
   "execution_count": 4,
   "id": "f6883202",
   "metadata": {},
   "outputs": [
    {
     "data": {
      "text/plain": [
       "SmallNet(\n",
       "  (l1): Linear(in_features=784, out_features=128, bias=True)\n",
       "  (l2): Linear(in_features=128, out_features=10, bias=True)\n",
       ")"
      ]
     },
     "execution_count": 4,
     "metadata": {},
     "output_type": "execute_result"
    }
   ],
   "source": [
    "class SmallNet(torch.nn.Module):\n",
    "    def __init__(self):\n",
    "        super(SmallNet, self).__init__()\n",
    "        # Build a SmallNet\n",
    "        self.l1 = nn.Linear(784, 128)\n",
    "        self.l2= nn.Linear(128, 10)\n",
    "\n",
    "    def forward(self, x):\n",
    "        # Don't forget to put the right operations here too!\n",
    "        a1 = self.l1(torch.flatten(x,start_dim=1))\n",
    "        z1 = torch.relu(a1)\n",
    "        \n",
    "        a2 = self.l2(z1)\n",
    "        \n",
    "        return a2 \n",
    "\n",
    " \n",
    "    \n",
    "small_model = SmallNet()\n",
    "small_model.to(device)"
   ]
  },
  {
   "cell_type": "markdown",
   "id": "895fe301",
   "metadata": {},
   "source": [
    "**To establish a baseline performance level, train the small model on the transfer set**  "
   ]
  },
  {
   "cell_type": "code",
   "execution_count": 5,
   "id": "feac05a0",
   "metadata": {},
   "outputs": [
    {
     "name": "stdout",
     "output_type": "stream",
     "text": [
      "0 tensor(0.4609)\n",
      "1 tensor(0.2205)\n",
      "2 tensor(0.1522)\n",
      "3 tensor(0.1085)\n",
      "4 tensor(0.0781)\n",
      "5 tensor(0.0549)\n",
      "6 tensor(0.0388)\n",
      "7 tensor(0.0286)\n",
      "8 tensor(0.0204)\n",
      "9 tensor(0.0158)\n",
      "10 tensor(0.0140)\n",
      "11 tensor(0.0114)\n",
      "12 tensor(0.0142)\n",
      "13 tensor(0.0240)\n",
      "14 tensor(0.0226)\n",
      "15 tensor(0.0110)\n",
      "16 tensor(0.0084)\n",
      "17 tensor(0.0073)\n",
      "18 tensor(0.0066)\n",
      "19 tensor(0.0087)\n",
      "20 tensor(0.0130)\n",
      "21 tensor(0.0088)\n",
      "22 tensor(0.0118)\n",
      "23 tensor(0.0032)\n",
      "24 tensor(0.0007)\n",
      "25 tensor(0.0007)\n",
      "26 tensor(0.0004)\n",
      "27 tensor(0.0002)\n",
      "28 tensor(0.0001)\n",
      "29 tensor(0.0001)\n",
      "30 tensor(0.0001)\n",
      "31 tensor(9.9492e-05)\n",
      "32 tensor(8.8442e-05)\n",
      "33 tensor(7.9089e-05)\n",
      "34 tensor(7.0739e-05)\n",
      "35 tensor(6.3290e-05)\n",
      "36 tensor(5.6534e-05)\n",
      "37 tensor(5.0532e-05)\n",
      "38 tensor(4.4993e-05)\n",
      "39 tensor(4.0092e-05)\n",
      "40 tensor(3.5377e-05)\n",
      "41 tensor(3.1382e-05)\n",
      "42 tensor(2.7865e-05)\n",
      "43 tensor(2.4640e-05)\n",
      "44 tensor(2.1876e-05)\n",
      "45 tensor(1.9115e-05)\n",
      "46 tensor(1.6773e-05)\n",
      "47 tensor(1.4735e-05)\n",
      "48 tensor(1.3037e-05)\n",
      "49 tensor(1.1255e-05)\n"
     ]
    }
   ],
   "source": [
    "# I'm giving you this training function: you'll need to modify it below to do knowledge distillation\n",
    "def train(model,train_loader,n_epochs):\n",
    "    optimizer = torch.optim.Adam(model.parameters(),1e-3)\n",
    "    loss_fn = torch.nn.CrossEntropyLoss()\n",
    "    model.train()\n",
    "    for epoch in range(n_epochs):\n",
    "        avg_l = 0.0\n",
    "        counter = 0\n",
    "        for batch_idx, (data, target) in enumerate(train_loader):\n",
    "            data, target = data.to(device), target.to(device)\n",
    "            data = data.reshape(data.shape[0],-1)\n",
    "            optimizer.zero_grad()\n",
    "            logits = model(data)\n",
    "            L = loss_fn(logits,target)\n",
    "            L.backward()\n",
    "            optimizer.step()\n",
    "            with torch.no_grad():\n",
    "                avg_l += L\n",
    "                counter += 1\n",
    "        print(epoch,avg_l/counter)\n",
    "\n",
    "train(small_model,transfer_loader,50)"
   ]
  },
  {
   "cell_type": "markdown",
   "id": "85a60a05",
   "metadata": {},
   "source": [
    "**Evaluate the small model on the test set, and comment on its accuracy relative to the big model.**  As you might expect, the performance is relatively worse.  \n",
    "\n",
    "Yes, the small model misses 400 compared to 167 with the big model"
   ]
  },
  {
   "cell_type": "code",
   "execution_count": 7,
   "id": "5f760c43",
   "metadata": {},
   "outputs": [
    {
     "data": {
      "text/plain": [
       "9600"
      ]
     },
     "execution_count": 7,
     "metadata": {},
     "output_type": "execute_result"
    }
   ],
   "source": [
    "test(small_model,test_loader)"
   ]
  },
  {
   "cell_type": "markdown",
   "id": "6343d3eb",
   "metadata": {},
   "source": [
    "**The primary task of this notebook is now as follows: create a new training function similar to \"train\" above, but instead called \"distill\".**  \"distill\" should perform knowledge distillation as outlined in this week's paper.  It should accept a few additional arguments compared to train, namely the big model, the temperature hyperparameter, and a hyperparameter $\\alpha$ that weights the relative magnitude of the soft target loss and the hard target loss."
   ]
  },
  {
   "cell_type": "code",
   "execution_count": 16,
   "id": "206a7384",
   "metadata": {},
   "outputs": [
    {
     "name": "stdout",
     "output_type": "stream",
     "text": [
      "0 tensor(-12.1571)\n",
      "1 tensor(-14.0227)\n",
      "2 tensor(-14.5835)\n",
      "3 tensor(-14.9200)\n",
      "4 tensor(-15.1595)\n",
      "5 tensor(-15.3314)\n",
      "6 tensor(-15.4675)\n",
      "7 tensor(-15.5780)\n",
      "8 tensor(-15.6656)\n",
      "9 tensor(-15.7316)\n",
      "10 tensor(-15.7877)\n",
      "11 tensor(-15.8348)\n",
      "12 tensor(-15.8723)\n",
      "13 tensor(-15.9047)\n",
      "14 tensor(-15.9307)\n",
      "15 tensor(-15.9538)\n",
      "16 tensor(-15.9750)\n",
      "17 tensor(-15.9972)\n",
      "18 tensor(-16.0122)\n",
      "19 tensor(-16.0239)\n",
      "20 tensor(-16.0385)\n",
      "21 tensor(-16.0496)\n",
      "22 tensor(-16.0621)\n",
      "23 tensor(-16.0732)\n",
      "24 tensor(-16.0816)\n",
      "25 tensor(-16.0892)\n",
      "26 tensor(-16.0962)\n",
      "27 tensor(-16.1041)\n",
      "28 tensor(-16.1080)\n",
      "29 tensor(-16.1098)\n",
      "30 tensor(-16.1052)\n",
      "31 tensor(-16.1077)\n",
      "32 tensor(-16.0728)\n",
      "33 tensor(-16.0859)\n",
      "34 tensor(-16.1195)\n",
      "35 tensor(-16.1829)\n",
      "36 tensor(-16.2655)\n",
      "37 tensor(-16.4236)\n",
      "38 tensor(-16.5240)\n",
      "39 tensor(-16.6827)\n",
      "40 tensor(-16.8394)\n",
      "41 tensor(-17.0197)\n",
      "42 tensor(-17.3307)\n",
      "43 tensor(-17.5763)\n",
      "44 tensor(-17.9785)\n",
      "45 tensor(-18.3520)\n",
      "46 tensor(-18.7798)\n",
      "47 tensor(-19.3766)\n",
      "48 tensor(-19.9839)\n",
      "49 tensor(-20.5636)\n"
     ]
    }
   ],
   "source": [
    "distilled_model = SmallNet()\n",
    "distilled_model.to(device)\n",
    "\n",
    "# The body of this method is currently copied verbatim from the train method above: \n",
    "# you will need to modify it to utilize the big_model, temperature, and alpha values \n",
    "# to perform knowledge distillation\n",
    "\n",
    "\n",
    "def distill(small_model,big_model,T,alpha,transfer_loader,n_epochs):\n",
    "    optimizer = torch.optim.Adam(small_model.parameters(),1e-3)\n",
    "    loss_fn = torch.nn.CrossEntropyLoss()\n",
    "    small_model.train()\n",
    "\n",
    "    \n",
    "    for epoch in range(n_epochs):\n",
    "        avg_l = 0.0\n",
    "        counter = 0\n",
    "        for batch_idx, (data, target) in enumerate(transfer_loader):\n",
    "            \n",
    "            data, target = data.to(device), target.to(device)\n",
    "            data = data.reshape(data.shape[0],-1)\n",
    "            optimizer.zero_grad()\n",
    "            \n",
    "            \n",
    "            logitsB = big_model(data)\n",
    "            logitsS = small_model(data)\n",
    "            \n",
    "            softTarget = torch.nn.functional.softmax(logitsB/T, dim=1)\n",
    "            L0 = loss_fn((logitsS/T), softTarget)     # don't softmax logS/T                   \n",
    "            L1 = loss_fn(logitsS, target)\n",
    "            \n",
    "            L = ((1-alpha)*L0) + (alpha * L1)\n",
    "            \n",
    "            L.backward()\n",
    "            optimizer.step()\n",
    "            with torch.no_grad():\n",
    "                avg_l += L\n",
    "                counter += 1\n",
    "        print(epoch,avg_l/counter)\n",
    "T = 8\n",
    "alpha = 10\n",
    "distill(distilled_model,big_model,T,alpha,transfer_loader,50)"
   ]
  },
  {
   "cell_type": "markdown",
   "id": "4f8bdbbc",
   "metadata": {},
   "source": [
    "**Finally, test your distilled model (on the test set) and describe how it performs relative to both big and small models.**\n",
    "\n",
    "\n",
    "The big model out performed both other models, the small model out performed the distilled model. I would have expected the dtsilled model to land in the middle (better than the small, but not quite as high performance as the big). I would also expect the distilled model to eventually be closer to the big model so perhaps I did something wrong in there. I expected the distilled model to outperform the small model because the small model is a stand alone model and not learning anything from the bigger model like the distilled model is. "
   ]
  },
  {
   "cell_type": "code",
   "execution_count": 20,
   "id": "70ad6e62",
   "metadata": {},
   "outputs": [
    {
     "name": "stdout",
     "output_type": "stream",
     "text": [
      "Big Model = 9833, Small Model = 9600, Distilled Model = 9285\n"
     ]
    }
   ],
   "source": [
    "distilled = test(distilled_model, test_loader)\n",
    "bigModel = test(big_model,test_loader)\n",
    "smallModel = test(small_model,test_loader)\n",
    "\n",
    "print(f'Big Model = {bigModel}, Small Model = {smallModel}, Distilled Model = {distilled}')"
   ]
  }
 ],
 "metadata": {
  "kernelspec": {
   "display_name": "Python 3 (ipykernel)",
   "language": "python",
   "name": "python3"
  },
  "language_info": {
   "codemirror_mode": {
    "name": "ipython",
    "version": 3
   },
   "file_extension": ".py",
   "mimetype": "text/x-python",
   "name": "python",
   "nbconvert_exporter": "python",
   "pygments_lexer": "ipython3",
   "version": "3.7.7"
  }
 },
 "nbformat": 4,
 "nbformat_minor": 5
}
