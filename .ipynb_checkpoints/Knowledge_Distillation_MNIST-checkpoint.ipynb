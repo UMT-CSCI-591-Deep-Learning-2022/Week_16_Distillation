{
 "cells": [
  {
   "cell_type": "markdown",
   "id": "9e198285",
   "metadata": {},
   "source": [
    "# Knowledge Distillation on MNIST\n",
    "Knowledge distillation is the process of transferring the higher performance of a more expensive model to a smaller one.  In this notebook, we will explore performing this process on MNIST.  To begin with, I have provided access to pre-trained model that is large, but performant.  The exact architecture is not relevant (although you can inspect this easily if you wish).  It is straightforward to load in pytorch with"
   ]
  },
  {
   "cell_type": "code",
   "execution_count": 1,
   "id": "bef4534c",
   "metadata": {},
   "outputs": [],
   "source": [
    "import torch\n",
    "device = 'cpu'\n",
    "\n",
    "class Net(torch.nn.Module):\n",
    "    def __init__(self):\n",
    "        super(Net, self).__init__()\n",
    "        self.l1 = torch.nn.Linear(28**2,800)\n",
    "        self.l2 = torch.nn.Linear(800,800)\n",
    "        self.l3 = torch.nn.Linear(800,10)\n",
    "        self.dropout2 = torch.nn.Dropout(0.5)\n",
    "        self.dropout3 = torch.nn.Dropout(0.5)\n",
    "\n",
    "    def forward(self, x):\n",
    "        x = self.l1(x)\n",
    "        x = torch.relu(x)\n",
    "        x = self.dropout2(x)\n",
    "        x = self.l2(x)\n",
    "        x = torch.relu(x)\n",
    "        x = self.dropout3(x)\n",
    "        x = self.l3(x)\n",
    "        return x\n",
    "    \n",
    "big_model = torch.load('pretrained_model.pt').to(device)"
   ]
  },
  {
   "cell_type": "markdown",
   "id": "78179abb",
   "metadata": {},
   "source": [
    "First, let's establish the baseline performance of the big model on the MNIST test set.  Of course we'll need acces to the MNIST test set to do this.  At the same time, let's also get our transfer set, which in this case will be a $n=10$k subset of the full MNIST training set (using a subset is helpful for speeding up training of distilled models, and also helps showcase some of the improved performance due to model distillation).   "
   ]
  },
  {
   "cell_type": "code",
   "execution_count": 2,
   "id": "177a7acf",
   "metadata": {},
   "outputs": [
    {
     "name": "stderr",
     "output_type": "stream",
     "text": [
      "/home/sean/.local/lib/python3.8/site-packages/torchvision/datasets/mnist.py:498: UserWarning: The given NumPy array is not writable, and PyTorch does not support non-writable tensors. This means writing to this tensor will result in undefined behavior. You may want to copy the array to protect its data or make it writable before converting it to a tensor. This type of warning will be suppressed for the rest of this program. (Triggered internally at  ../torch/csrc/utils/tensor_numpy.cpp:178.)\n",
      "  return torch.from_numpy(parsed.astype(m[2], copy=False)).view(*s)\n"
     ]
    }
   ],
   "source": [
    "from torchvision import transforms, datasets\n",
    "transform=transforms.Compose([\n",
    "    transforms.ToTensor(),\n",
    "    transforms.Normalize((0.1307,), (0.3081,)),\n",
    "    ])\n",
    "\n",
    "dataset_train = datasets.MNIST('./data', train=True, download=True, transform=transform)\n",
    "\n",
    "dataset_test = datasets.MNIST('../data', train=False, download=True, transform=transform)\n",
    "\n",
    "# This is a useful function that I didn't know about before\n",
    "first_10k = list(range(0, 10000))\n",
    "dataset_transfer = torch.utils.data.Subset(dataset_train, first_10k)\n",
    "\n",
    "batch_size = 32\n",
    "num_workers = 4\n",
    "transfer_loader = torch.utils.data.DataLoader(dataset_transfer,batch_size=batch_size,num_workers=num_workers)\n",
    "test_loader = torch.utils.data.DataLoader(dataset_test,batch_size=batch_size,num_workers=num_workers)"
   ]
  },
  {
   "cell_type": "markdown",
   "id": "d5fe32ec",
   "metadata": {},
   "source": [
    "Here's a function that runs the big model in test mode and provides the number of correct examples"
   ]
  },
  {
   "cell_type": "code",
   "execution_count": 10,
   "id": "8937d3ec",
   "metadata": {},
   "outputs": [],
   "source": [
    "def test(model,test_loader):\n",
    "    correct = 0\n",
    "    counter = 0\n",
    "    model.eval()\n",
    "    with torch.no_grad():\n",
    "        for data,target in test_loader:\n",
    "            data, target = data.to(device), target.to(device)\n",
    "            data = data.reshape(data.shape[0],-1)\n",
    "            logits = model(data)\n",
    "            pred = logits.argmax(dim=1,keepdim=True)\n",
    "            correct += pred.eq(target.view_as(pred)).sum().item()\n",
    "            counter += batch_size\n",
    "    return correct"
   ]
  },
  {
   "cell_type": "code",
   "execution_count": 11,
   "id": "1326b409",
   "metadata": {},
   "outputs": [
    {
     "name": "stdout",
     "output_type": "stream",
     "text": [
      "number wrong:  167\n"
     ]
    }
   ],
   "source": [
    "num_correct = test(big_model,test_loader)\n",
    "print('number wrong: ',10000 - num_correct)"
   ]
  },
  {
   "cell_type": "markdown",
   "id": "f7d3c34a",
   "metadata": {},
   "source": [
    "We find that the big model gets 167 examples wrong (not quite as good as the Hinton paper, but who cares). \n",
    "\n",
    "Now we would like to perform knowledge distillation by training a smaller model to approximate the larger model's performance on the transfer set.  First, let's build a smaller model.  You may use whatever architecture you choose, but I found that using two hidden layers, each with 200 units along with ReLU activations (and no regularization at all) worked fine."
   ]
  },
  {
   "cell_type": "code",
   "execution_count": 4,
   "id": "f6883202",
   "metadata": {},
   "outputs": [
    {
     "data": {
      "text/plain": [
       "SmallNet(\n",
       "  (l1): Linear(in_features=784, out_features=400, bias=True)\n",
       "  (l2): Linear(in_features=400, out_features=400, bias=True)\n",
       "  (l3): Linear(in_features=400, out_features=10, bias=True)\n",
       "  (dropout2): Dropout(p=0.5, inplace=False)\n",
       "  (dropout3): Dropout(p=0.5, inplace=False)\n",
       ")"
      ]
     },
     "execution_count": 4,
     "metadata": {},
     "output_type": "execute_result"
    }
   ],
   "source": [
    "class SmallNet(torch.nn.Module):\n",
    "    def __init__(self):\n",
    "        super(SmallNet, self).__init__()\n",
    "        self.l1 = torch.nn.Linear(28**2,400)\n",
    "        self.l2 = torch.nn.Linear(400,400)\n",
    "        self.l3 = torch.nn.Linear(400,10)\n",
    "        self.dropout2 = torch.nn.Dropout(0.5)\n",
    "        self.dropout3 = torch.nn.Dropout(0.5)\n",
    "\n",
    "    def forward(self, x):\n",
    "        x = self.l1(x)\n",
    "        x = torch.relu(x)\n",
    "        x = self.dropout2(x)\n",
    "        x = self.l2(x)\n",
    "        x = torch.relu(x)\n",
    "        x = self.dropout3(x)\n",
    "        x = self.l3(x)\n",
    "        return x\n",
    "    \n",
    "small_model = SmallNet()\n",
    "small_model.to(device)"
   ]
  },
  {
   "cell_type": "markdown",
   "id": "895fe301",
   "metadata": {},
   "source": [
    "**To establish a baseline performance level, train the small model on the transfer set**  "
   ]
  },
  {
   "cell_type": "code",
   "execution_count": 5,
   "id": "feac05a0",
   "metadata": {
    "scrolled": true
   },
   "outputs": [
    {
     "name": "stdout",
     "output_type": "stream",
     "text": [
      "0 tensor(0.6012)\n",
      "1 tensor(0.3251)\n",
      "2 tensor(0.2597)\n",
      "3 tensor(0.2139)\n",
      "4 tensor(0.1984)\n",
      "5 tensor(0.1767)\n",
      "6 tensor(0.1777)\n",
      "7 tensor(0.1623)\n",
      "8 tensor(0.1450)\n",
      "9 tensor(0.1447)\n",
      "10 tensor(0.1406)\n",
      "11 tensor(0.1261)\n",
      "12 tensor(0.1233)\n",
      "13 tensor(0.1231)\n",
      "14 tensor(0.1283)\n",
      "15 tensor(0.1139)\n",
      "16 tensor(0.1142)\n",
      "17 tensor(0.1119)\n",
      "18 tensor(0.1017)\n",
      "19 tensor(0.1284)\n",
      "20 tensor(0.0897)\n",
      "21 tensor(0.0953)\n",
      "22 tensor(0.0924)\n",
      "23 tensor(0.0945)\n",
      "24 tensor(0.0985)\n",
      "25 tensor(0.1103)\n",
      "26 tensor(0.1017)\n",
      "27 tensor(0.0829)\n",
      "28 tensor(0.0845)\n",
      "29 tensor(0.0945)\n",
      "30 tensor(0.0816)\n",
      "31 tensor(0.0809)\n",
      "32 tensor(0.0848)\n",
      "33 tensor(0.0978)\n",
      "34 tensor(0.0807)\n",
      "35 tensor(0.0976)\n",
      "36 tensor(0.0879)\n",
      "37 tensor(0.0791)\n",
      "38 tensor(0.0712)\n",
      "39 tensor(0.0879)\n",
      "40 tensor(0.0807)\n",
      "41 tensor(0.0715)\n",
      "42 tensor(0.0795)\n",
      "43 tensor(0.0739)\n",
      "44 tensor(0.0717)\n",
      "45 tensor(0.0844)\n",
      "46 tensor(0.0792)\n",
      "47 tensor(0.0873)\n",
      "48 tensor(0.0771)\n",
      "49 tensor(0.0749)\n"
     ]
    }
   ],
   "source": [
    "# I'm giving you this training function: you'll need to modify it below to do knowledge distillation\n",
    "def train(model,train_loader,n_epochs):\n",
    "    optimizer = torch.optim.Adam(model.parameters(),1e-3)\n",
    "    loss_fn = torch.nn.CrossEntropyLoss()\n",
    "    model.train()\n",
    "    for epoch in range(n_epochs):\n",
    "        avg_l = 0.0\n",
    "        counter = 0\n",
    "        for batch_idx, (data, target) in enumerate(train_loader):\n",
    "            data, target = data.to(device), target.to(device)\n",
    "            data = data.reshape(data.shape[0],-1)\n",
    "            optimizer.zero_grad()\n",
    "            logits = model(data)\n",
    "            L = loss_fn(logits,target)\n",
    "            L.backward()\n",
    "            optimizer.step()\n",
    "            with torch.no_grad():\n",
    "                avg_l += L\n",
    "                counter += 1\n",
    "        print(epoch,avg_l/counter)\n",
    "\n",
    "train(small_model,transfer_loader,50)"
   ]
  },
  {
   "cell_type": "markdown",
   "id": "85a60a05",
   "metadata": {},
   "source": [
    "**Evaluate the small model on the test set, and comment on its accuracy relative to the big model.**  As you might expect, the performance is relatively worse.  \n",
    "\n",
    "While the small model still does mostly classify correctly, it has a 3.77% error rate compared to the 1.67% error rate of the big model."
   ]
  },
  {
   "cell_type": "code",
   "execution_count": 8,
   "id": "5f760c43",
   "metadata": {},
   "outputs": [
    {
     "name": "stdout",
     "output_type": "stream",
     "text": [
      "number wrong:  377\n"
     ]
    }
   ],
   "source": [
    "num_correct = test(small_model,test_loader)\n",
    "print('number wrong: ',10000 - num_correct)"
   ]
  },
  {
   "cell_type": "markdown",
   "id": "6343d3eb",
   "metadata": {},
   "source": [
    "**The primary task of this notebook is now as follows: create a new training function similar to \"train\" above, but instead called \"distill\".**  \"distill\" should perform knowledge distillation as outlined in this week's paper.  It should accept a few additional arguments compared to train, namely the big model, the temperature hyperparameter, and a hyperparameter $\\alpha$ that weights the relative magnitude of the soft target loss and the hard target loss."
   ]
  },
  {
   "cell_type": "code",
   "execution_count": 6,
   "id": "206a7384",
   "metadata": {
    "scrolled": true
   },
   "outputs": [
    {
     "name": "stdout",
     "output_type": "stream",
     "text": [
      "0 tensor(1.2977)\n",
      "1 tensor(1.0054)\n",
      "2 tensor(0.9575)\n",
      "3 tensor(0.9260)\n",
      "4 tensor(0.9079)\n",
      "5 tensor(0.8925)\n",
      "6 tensor(0.8811)\n",
      "7 tensor(0.8744)\n",
      "8 tensor(0.8708)\n",
      "9 tensor(0.8666)\n",
      "10 tensor(0.8634)\n",
      "11 tensor(0.8606)\n",
      "12 tensor(0.8573)\n",
      "13 tensor(0.8515)\n",
      "14 tensor(0.8549)\n",
      "15 tensor(0.8582)\n",
      "16 tensor(0.8520)\n",
      "17 tensor(0.8508)\n",
      "18 tensor(0.8500)\n",
      "19 tensor(0.8479)\n",
      "20 tensor(0.8444)\n",
      "21 tensor(0.8459)\n",
      "22 tensor(0.8446)\n",
      "23 tensor(0.8446)\n",
      "24 tensor(0.8414)\n",
      "25 tensor(0.8408)\n",
      "26 tensor(0.8384)\n",
      "27 tensor(0.8382)\n",
      "28 tensor(0.8396)\n",
      "29 tensor(0.8415)\n",
      "30 tensor(0.8375)\n",
      "31 tensor(0.8368)\n",
      "32 tensor(0.8392)\n",
      "33 tensor(0.8366)\n",
      "34 tensor(0.8349)\n",
      "35 tensor(0.8328)\n",
      "36 tensor(0.8348)\n",
      "37 tensor(0.8336)\n",
      "38 tensor(0.8322)\n",
      "39 tensor(0.8354)\n",
      "40 tensor(0.8334)\n",
      "41 tensor(0.8302)\n",
      "42 tensor(0.8326)\n",
      "43 tensor(0.8317)\n",
      "44 tensor(0.8311)\n",
      "45 tensor(0.8315)\n",
      "46 tensor(0.8285)\n",
      "47 tensor(0.8317)\n",
      "48 tensor(0.8302)\n",
      "49 tensor(0.8307)\n"
     ]
    }
   ],
   "source": [
    "from torch import nn\n",
    "\n",
    "distilled_model = SmallNet()\n",
    "distilled_model.to(device)\n",
    "\n",
    "# The body of this method is currently copied verbatim from the train method above: \n",
    "# you will need to modify it to utilize the big_model, temperature, and alpha values \n",
    "# to perform knowledge distillation\n",
    "\n",
    "#Need other part of loss function\n",
    "#Produce logits of large model (softmaxed versions of logits?) (i.e. softtargets) use temp\n",
    "#Categorial Cross Entropy Again\n",
    "def distill(small_model,big_model,T,alpha,transfer_loader,n_epochs):\n",
    "    optimizer = torch.optim.Adam(small_model.parameters(),1e-3)\n",
    "    loss_fn = torch.nn.CrossEntropyLoss()\n",
    "    small_model.train()\n",
    "    for epoch in range(n_epochs):\n",
    "        avg_l = 0.0\n",
    "        counter = 0\n",
    "        for batch_idx, (data, target) in enumerate(transfer_loader):\n",
    "            data, target = data.to(device), target.to(device)\n",
    "            data = data.reshape(data.shape[0],-1)\n",
    "            optimizer.zero_grad()\n",
    "            \n",
    "            big_logits = big_model(data)\n",
    "            softy = nn.Softmax(dim=1)\n",
    "            big_logits = softy(big_logits/T)\n",
    "            #big_logits = torch.amax(big_logits)\n",
    "            \n",
    "            small_logits = small_model(data)\n",
    "            \n",
    "            L_distillation = loss_fn(small_logits,target) #* T**2\n",
    "            #print('small',small_logits.shape)\n",
    "            #print('big',big_logits.shape)\n",
    "            \n",
    "            L_student = loss_fn(small_logits/T,big_logits) #* T**2\n",
    "            \n",
    "            L = ((1 - alpha)*L_distillation + alpha * L_student)\n",
    "\n",
    "            L.backward()\n",
    "            optimizer.step()\n",
    "            with torch.no_grad():\n",
    "                avg_l += L\n",
    "                counter += 1\n",
    "        print(epoch,avg_l/counter)\n",
    "        \n",
    "T = 10 \n",
    "alpha = 0.9\n",
    "distill(distilled_model,big_model,T,alpha,transfer_loader,50)"
   ]
  },
  {
   "cell_type": "markdown",
   "id": "4f8bdbbc",
   "metadata": {},
   "source": [
    "**Finally, test your distilled model (on the test set) and describe how it performs relative to both big and small models.**\n",
    "\n",
    "The distilled model performs better than the small model alone (3.24% compared to 3.77% error rates).  However, it still does have a worse performance than the big model alone (3.24% compared to 1.67% error rates)."
   ]
  },
  {
   "cell_type": "code",
   "execution_count": 9,
   "id": "70ad6e62",
   "metadata": {},
   "outputs": [
    {
     "name": "stdout",
     "output_type": "stream",
     "text": [
      "number wrong:  324\n"
     ]
    }
   ],
   "source": [
    "num_correct = test(distilled_model,test_loader)\n",
    "print('number wrong: ',10000 - num_correct)"
   ]
  },
  {
   "cell_type": "code",
   "execution_count": null,
   "id": "3226ac56",
   "metadata": {},
   "outputs": [],
   "source": []
  }
 ],
 "metadata": {
  "kernelspec": {
   "display_name": "Python 3 (ipykernel)",
   "language": "python",
   "name": "python3"
  },
  "language_info": {
   "codemirror_mode": {
    "name": "ipython",
    "version": 3
   },
   "file_extension": ".py",
   "mimetype": "text/x-python",
   "name": "python",
   "nbconvert_exporter": "python",
   "pygments_lexer": "ipython3",
   "version": "3.8.10"
  }
 },
 "nbformat": 4,
 "nbformat_minor": 5
}
